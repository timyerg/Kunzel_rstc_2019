{
 "cells": [
  {
   "cell_type": "markdown",
   "metadata": {},
   "source": [
    "# Import demultiplexed filtered reads"
   ]
  },
  {
   "cell_type": "code",
   "execution_count": null,
   "metadata": {},
   "outputs": [],
   "source": [
    "import pandas as pd\n",
    "import os\n",
    "\n",
    "met = pd.read_csv('metadata.tsv', sep='\\t', index_col='#SampleID')\n",
    "\n",
    "# sort reads by sequencing run\n",
    "for ri in set(met.Run_index):\n",
    "  tmp = 'Data/Demux/'+met.loc[met.Run_index == ri]['SeqRun'].tolist()[0]\n",
    "  !mkdir $tmp\n",
    "  !mv Data/Demux/$ri/* $tmp\n",
    "  !rm -r Data/Demux/$ri\n",
    "  for fq in os.listdir(tmp):\n",
    "    if '.fastq.' in fq:\n",
    "      continue\n",
    "    fastq = fq.replace('.fq.','.fastq.')\n",
    "    !mv $tmp/$fq $tmp/$fastq"
   ]
  },
  {
   "cell_type": "code",
   "execution_count": 2,
   "metadata": {},
   "outputs": [
    {
     "name": "stdout",
     "output_type": "stream",
     "text": [
      "\u001b[32mImported Data/Demux/SeqRun_2 as CasavaOneEightSingleLanePerSampleDirFmt to Data/Demux/SeqRun_2_demux.qza\u001b[0m\n",
      "\u001b[32mSaved Visualization to: Data/Demux/SeqRun_2_demux.qzv\u001b[0m\n",
      "\u001b[32mImported Data/Demux/SeqRun_1 as CasavaOneEightSingleLanePerSampleDirFmt to Data/Demux/SeqRun_1_demux.qza\u001b[0m\n",
      "\u001b[32mSaved Visualization to: Data/Demux/SeqRun_1_demux.qzv\u001b[0m\n"
     ]
    }
   ],
   "source": [
    "import pandas as pd\n",
    "met = pd.read_csv('metadata.tsv', sep='\\t', index_col='#SampleID')\n",
    "\n",
    "# import reads\n",
    "for sr in set(met.SeqRun):\n",
    "  demux = 'Data/Demux/%s_demux.qza'%sr\n",
    "  deqzv = 'Data/Demux/%s_demux.qzv'%sr\n",
    "  \n",
    "  !qiime tools import \\\n",
    "    --type 'SampleData[PairedEndSequencesWithQuality]' \\\n",
    "    --input-path Data/Demux/$sr \\\n",
    "    --input-format CasavaOneEightSingleLanePerSampleDirFmt \\\n",
    "    --output-path $demux\n",
    "  !qiime demux summarize \\\n",
    "    --i-data $demux \\\n",
    "    --o-visualization $deqzv"
   ]
  },
  {
   "cell_type": "code",
   "execution_count": 1,
   "metadata": {},
   "outputs": [
    {
     "name": "stdout",
     "output_type": "stream",
     "text": [
      "\u001b[32mSaved SampleData[PairedEndSequencesWithQuality] to: Data/Cutadapt/SeqRun_1_trim.qza\u001b[0m\n",
      "\u001b[32mSaved Visualization to: Data/Cutadapt/SeqRun_1_trim.qzv\u001b[0m\n",
      "\u001b[32mSaved SampleData[PairedEndSequencesWithQuality] to: Data/Cutadapt/SeqRun_2_trim.qza\u001b[0m\n",
      "\u001b[32mSaved Visualization to: Data/Cutadapt/SeqRun_2_trim.qzv\u001b[0m\n"
     ]
    }
   ],
   "source": [
    "import pandas as pd\n",
    "met = pd.read_csv('metadata.tsv', sep='\\t', index_col='#SampleID')\n",
    "\n",
    "cutadapt = 'Data/Cutadapt'\n",
    "!mkdir $cutadapt\n",
    "for sr in set(met.SeqRun):\n",
    "  demux = 'Data/Demux/%s_demux.qza'%sr\n",
    "  cutad = cutadapt+'/%s_trim.qza'%sr\n",
    "  cuqzv = cutadapt+'/%s_trim.qzv'%sr\n",
    "  \n",
    "  !qiime cutadapt trim-paired \\\n",
    "    --i-demultiplexed-sequences $demux \\\n",
    "    --o-trimmed-sequences $cutad \\\n",
    "    --p-cores 10 \\\n",
    "    --p-front-f CAAGRGTTHGATYMTGGCTCAG \\\n",
    "    --p-adapter-f GGGGGGGGGGGGGGGGGGGGGGGGGGGGGG \\\n",
    "    --p-front-r TGCTGCCTCCCGTAGGAGT \\\n",
    "    --p-adapter-r GGGGGGGGGGGGGGGGGGGGGGGGGGGGGG \\\n",
    "    --p-error-rate 0.2 \\\n",
    "    --p-match-adapter-wildcards \\\n",
    "    --p-discard-untrimmed \\\n",
    "    --p-match-read-wildcards\n",
    "\n",
    "  # Visualization\n",
    "  !qiime demux summarize \\\n",
    "      --i-data $cutad \\\n",
    "      --o-visualization $cuqzv"
   ]
  },
  {
   "cell_type": "markdown",
   "metadata": {
    "tags": []
   },
   "source": [
    "# Dada2 denoising"
   ]
  },
  {
   "cell_type": "code",
   "execution_count": 1,
   "metadata": {
    "tags": []
   },
   "outputs": [
    {
     "name": "stdout",
     "output_type": "stream",
     "text": [
      "\u001b[32mSaved FeatureTable[Frequency] to: Data/Denoised_180-200/SeqRun_1_bac_table.qza\u001b[0m\n",
      "\u001b[32mSaved FeatureData[Sequence] to: Data/Denoised_180-200/SeqRun_1_bac_rep-seqs.qza\u001b[0m\n",
      "\u001b[32mSaved SampleData[DADA2Stats] to: Data/Denoised_180-200/SeqRun_1_bac_denoising-stats.qza\u001b[0m\n",
      "\u001b[32mSaved Visualization to: Data/Denoised_180-200/SeqRun_1_bac_rep-seqs.qzv\u001b[0m\n",
      "\u001b[32mSaved Visualization to: Data/Denoised_180-200/SeqRun_1_bac_denoising-stats.qzv\u001b[0m\n",
      "\u001b[32mSaved Visualization to: Data/Denoised_180-200/SeqRun_1_bac_table.qzv\u001b[0m\n",
      "\u001b[32mSaved FeatureTable[Frequency] to: Data/Denoised_180-200/SeqRun_2_bac_table.qza\u001b[0m\n",
      "\u001b[32mSaved FeatureData[Sequence] to: Data/Denoised_180-200/SeqRun_2_bac_rep-seqs.qza\u001b[0m\n",
      "\u001b[32mSaved SampleData[DADA2Stats] to: Data/Denoised_180-200/SeqRun_2_bac_denoising-stats.qza\u001b[0m\n",
      "\u001b[32mSaved Visualization to: Data/Denoised_180-200/SeqRun_2_bac_rep-seqs.qzv\u001b[0m\n",
      "\u001b[32mSaved Visualization to: Data/Denoised_180-200/SeqRun_2_bac_denoising-stats.qzv\u001b[0m\n",
      "\u001b[32mSaved Visualization to: Data/Denoised_180-200/SeqRun_2_bac_table.qzv\u001b[0m\n"
     ]
    }
   ],
   "source": [
    "import pandas as pd\n",
    "met = pd.read_csv('metadata.tsv', sep='\\t', index_col='#SampleID')\n",
    "\n",
    "outdir = 'Data/Denoised_180-200'\n",
    "!mkdir $outdir\n",
    "for sr in set(met.SeqRun):\n",
    "  cutad = 'Data/Cutadapt/%s_trim.qza'%sr\n",
    "  table = outdir+'/%s_bac_table.qza'%sr\n",
    "  taqzv = outdir+'/%s_bac_table.qzv'%sr\n",
    "  repsq = outdir+'/%s_bac_rep-seqs.qza'%sr\n",
    "  reqzv = outdir+'/%s_bac_rep-seqs.qzv'%sr\n",
    "  stats = outdir+'/%s_bac_denoising-stats.qza'%sr\n",
    "  stqzv = outdir+'/%s_bac_denoising-stats.qzv'%sr\n",
    "  \n",
    "  !qiime dada2 denoise-paired \\\n",
    "    --i-demultiplexed-seqs $cutad \\\n",
    "    --p-trunc-len-f 180 \\\n",
    "    --p-trunc-len-r 200 \\\n",
    "    --p-n-threads 6 \\\n",
    "    --o-table $table \\\n",
    "    --o-representative-sequences $repsq \\\n",
    "    --o-denoising-stats $stats\n",
    "\n",
    "  !qiime feature-table tabulate-seqs \\\n",
    "    --i-data $repsq \\\n",
    "    --o-visualization $reqzv\n",
    "\n",
    "  !qiime metadata tabulate \\\n",
    "    --m-input-file $stats \\\n",
    "    --o-visualization $stqzv\n",
    "\n",
    "  !qiime feature-table summarize \\\n",
    "    --i-table $table \\\n",
    "    --o-visualization $taqzv \\\n",
    "    --m-sample-metadata-file metadata.tsv"
   ]
  },
  {
   "cell_type": "markdown",
   "metadata": {},
   "source": [
    "# Merge different runs"
   ]
  },
  {
   "cell_type": "code",
   "execution_count": 4,
   "metadata": {},
   "outputs": [
    {
     "name": "stdout",
     "output_type": "stream",
     "text": [
      "\u001b[32mSaved FeatureTable[Frequency] to: Data/merged_table.qza\u001b[0m\n",
      "\u001b[32mSaved FeatureData[Sequence] to: Data/merged_rep-seqs.qza\u001b[0m\n",
      "\u001b[32mSaved Visualization to: Data/merged_table.qzv\u001b[0m\n"
     ]
    }
   ],
   "source": [
    "!qiime feature-table merge \\\n",
    "  --i-tables Data/Denoised_180-200/*bac_table.qza \\\n",
    "  --o-merged-table Data/merged_table.qza\n",
    "\n",
    "!qiime feature-table merge-seqs \\\n",
    "  --i-data Data/Denoised_180-200/*bac_rep-seqs.qza \\\n",
    "  --o-merged-data Data/merged_rep-seqs.qza\n",
    "\n",
    "!qiime feature-table summarize \\\n",
    "  --i-table Data/merged_table.qza \\\n",
    "  --o-visualization Data/merged_table.qzv \\\n",
    "  --m-sample-metadata-file metadata.tsv"
   ]
  },
  {
   "cell_type": "code",
   "execution_count": 5,
   "metadata": {},
   "outputs": [
    {
     "name": "stdout",
     "output_type": "stream",
     "text": [
      "\u001b[32mSaved FeatureTable[Frequency] to: Data/merged_table.qza\u001b[0m\n",
      "\u001b[32mSaved Visualization to: merged_table.qzv\u001b[0m\n",
      "\u001b[32mSaved FeatureData[Sequence] to: Data/merged_rep-seqs.qza\u001b[0m\n"
     ]
    }
   ],
   "source": [
    "table = 'Data/merged_table.qza'\n",
    "clstseq = 'Data/merged_rep-seqs.qza'\n",
    "\n",
    "!qiime feature-table filter-features \\\n",
    "  --i-table $table \\\n",
    "  --p-min-frequency 50 \\\n",
    "  --p-min-samples 4 \\\n",
    "  --o-filtered-table $table\n",
    "\n",
    "!qiime feature-table summarize \\\n",
    "  --i-table $table \\\n",
    "  --o-visualization Data/merged_table.qzv \\\n",
    "  --m-sample-metadata-file metadata.tsv\n",
    "\n",
    "!qiime feature-table filter-seqs \\\n",
    "  --i-data $clstseq \\\n",
    "  --i-table $table \\\n",
    "  --o-filtered-data $clstseq"
   ]
  },
  {
   "cell_type": "markdown",
   "metadata": {},
   "source": [
    "# Taxonomy assignment"
   ]
  },
  {
   "cell_type": "code",
   "execution_count": 6,
   "metadata": {},
   "outputs": [
    {
     "name": "stdout",
     "output_type": "stream",
     "text": [
      "\u001b[32mSaved FeatureData[Taxonomy] to: Data/V1-V2_taxonomy_vsearch-sklearn.qza\u001b[0m\n",
      "\u001b[32mSaved Visualization to: Data/V1-V2_taxonomy_vsearch-sklearn.qzv\u001b[0m\n"
     ]
    }
   ],
   "source": [
    "!qiime feature-classifier classify-hybrid-vsearch-sklearn \\\n",
    "  --i-query Data/merged_rep-seqs.qza \\\n",
    "  --i-reference-reads ../Classifier/silva-138_1-ssu-nr99-seqs-V1-V2-uniq.qza \\\n",
    "  --i-reference-taxonomy ../Classifier/silva-138_1-ssu-nr99-tax-V1-V2-derep-uniq.qza \\\n",
    "  --i-classifier ../Classifier/V1-V2-ssu-nr99-classifier.qza \\\n",
    "  --p-threads 2 \\\n",
    "  --p-no-prefilter \\\n",
    "  --o-classification Data/V1-V2_taxonomy_vsearch-sklearn.qza\n",
    "\n",
    "!qiime metadata tabulate \\\n",
    "  --m-input-file Data/V1-V2_taxonomy_vsearch-sklearn.qza \\\n",
    "  --o-visualization Data/V1-V2_taxonomy_vsearch-sklearn.qzv"
   ]
  },
  {
   "cell_type": "code",
   "execution_count": 1,
   "metadata": {},
   "outputs": [
    {
     "name": "stdout",
     "output_type": "stream",
     "text": [
      "\u001b[32mExported Data/V1-V2_taxonomy_vsearch-sklearn.qza as TSVTaxonomyDirectoryFormat to directory ./\u001b[0m\n"
     ]
    }
   ],
   "source": [
    "import pandas as pd\n",
    "\n",
    "# declare Qiime2 generated artifacts here\n",
    "table    = 'Data/merged_table.qza' \n",
    "taxo     = 'Data/V1-V2_taxonomy_vsearch-sklearn.qza'\n",
    "rep_seq  = 'Data/merged_rep-seqs.qza'\n",
    "\n",
    "# export rep-seqs.qza, table.qza and taxonomy.qza\n",
    "\n",
    "!qiime tools export \\\n",
    "  --input-path $taxo \\\n",
    "  --output-path ./"
   ]
  },
  {
   "cell_type": "code",
   "execution_count": 2,
   "metadata": {},
   "outputs": [
    {
     "name": "stdout",
     "output_type": "stream",
     "text": [
      "\u001b[32mImported taxonomy.tsv as TSVTaxonomyDirectoryFormat to Data/mock_taxa_asv.qza\u001b[0m\n"
     ]
    }
   ],
   "source": [
    "!qiime tools import \\\n",
    "  --type 'FeatureData[Taxonomy]' \\\n",
    "  --input-path taxonomy.tsv \\\n",
    "  --output-path Data/mock_taxa_asv.qza"
   ]
  },
  {
   "cell_type": "code",
   "execution_count": 4,
   "metadata": {},
   "outputs": [
    {
     "name": "stdout",
     "output_type": "stream",
     "text": [
      "\u001b[32mSaved Visualization to: asv-barplot.qzv\u001b[0m\n"
     ]
    }
   ],
   "source": [
    "!qiime taxa barplot \\\n",
    "  --i-table Data/merged_table.qza \\\n",
    "  --i-taxonomy Data/mock_taxa_asv.qza \\\n",
    "  --m-metadata-file metadata.tsv \\\n",
    "  --o-visualization asv-barplot.qzv"
   ]
  },
  {
   "cell_type": "markdown",
   "metadata": {},
   "source": [
    "# Combo: Combining ASV hashes with last available taxa "
   ]
  },
  {
   "cell_type": "code",
   "execution_count": null,
   "metadata": {},
   "outputs": [],
   "source": [
    "# Install biopython\n",
    "!pip install biopython"
   ]
  },
  {
   "cell_type": "code",
   "execution_count": 1,
   "metadata": {},
   "outputs": [
    {
     "name": "stdout",
     "output_type": "stream",
     "text": [
      "\u001b[32mExported Data/merged_table.qza as BIOMV210DirFmt to directory Biom/\u001b[0m\n",
      "\u001b[32mExported Data/V1-V2_taxonomy_vsearch-sklearn.qza as TSVTaxonomyDirectoryFormat to directory Taxa\u001b[0m\n",
      "\u001b[32mExported Data/merged_rep-seqs.qza as DNASequencesDirectoryFormat to directory Rep-seqs/\u001b[0m\n"
     ]
    }
   ],
   "source": [
    "import pandas as pd\n",
    "from Bio import SeqIO\n",
    "\n",
    "# declare Qiime2 generated artifacts here\n",
    "table    = 'Data/merged_table.qza' \n",
    "taxo     = 'Data/V1-V2_taxonomy_vsearch-sklearn.qza'\n",
    "rep_seq  = 'Data/merged_rep-seqs.qza'\n",
    "\n",
    "# export rep-seqs.qza, table.qza and taxonomy.qza\n",
    "!mkdir Biom Taxa Rep-seqs #temp directories\n",
    "\n",
    "!qiime tools export \\\n",
    "  --input-path $table \\\n",
    "  --output-path Biom/\n",
    "\n",
    "!qiime tools export \\\n",
    "  --input-path $taxo \\\n",
    "  --output-path Taxa\n",
    "\n",
    "!qiime tools export \\\n",
    "  --input-path $rep_seq \\\n",
    "  --output-path Rep-seqs/\n",
    "\n",
    "# convert .biom to .tsv\n",
    "!biom convert -i Biom/feature-table.biom -o Biom/feature-table.tsv --to-tsv \n",
    "\n",
    "# *****replacing hashes with combination of taxonomy and beginings of the hashes*****\n",
    "# reading tables\n",
    "taxa = pd.read_csv('Taxa/taxonomy.tsv', sep='\\t')\n",
    "biom = pd.read_csv('Biom/feature-table.tsv', sep='\\t', skiprows=1)\n",
    "\n",
    "#creating a new column with modified taxonomy\n",
    "#I also shortened some annotations and deleted some symbols \n",
    "#that were crashing tree construction with modified files\n",
    "tax_rep = {';__':'','[':'',']':'','.':'','/':'_',\"'\":'_',' ':'_','archaeon_enrichment':'a_e',\n",
    "           'uncultured_rumen':'u_r','uncultured_archaeon':'u_a','uncultured_euryarchaeote':'u_eur',\n",
    "           'uncultured_compost':'u_c','_archaeon':'_a','unidentified':'unid','unid_rumen':'unid_r',\n",
    "           'uncultured_bacterium':'u_b','uncultured':'u','rumen_bacterium':'r_b','group':'gr',\n",
    "            '':'','':'','':'','':'','':'',}\n",
    "taxa['Taxon2'] = taxa['Taxon']\n",
    "for key in tax_rep.keys():\n",
    "  taxa['Taxon2'] = taxa['Taxon2'].str.replace(key, tax_rep[key])\n",
    "\n",
    "#dealing with uncultured taxa to provide additional information\n",
    "taxa['Combo'] =  taxa['Taxon2'].str.split(\"__\").str[-1].str.split(\";\").str[-1]\n",
    "for x in ['u_eur','u_r','unid_methanogen','a_e','u_a','u_c','unid_a','u','u_b','unid_r','r_b','methanogenic_a','u_methanogenic_a']:\n",
    "  taxa.loc[taxa['Combo'].str[:]==x,'Combo']=taxa['Taxon2'].str.split(\"__\").str[-2].str.split(';').str[0]+'_'+x\n",
    "for n in range(3,6):\n",
    "  for y in ['u_u_a','u_u_r','u_u_b','u_u','u_u_eur','u_u_methanogenic_a']:\n",
    "    taxa.loc[taxa.Combo.str[:]==y,'Combo']=taxa.Taxon2.str.split(\"__\").str[-n].str.split(';').str[0]+'_'+y.split('_',1)[1]\n",
    "  \n",
    "#add modified taxonomy information to feature hashes, separating them by '|'\n",
    "biom['#OTU ID'] = taxa['Combo']+'|'+taxa['Feature ID']\n",
    "taxa['Feature ID'] = biom['#OTU ID']\n",
    "taxa = taxa[['Feature ID', 'Taxon', 'Confidence', 'Consensus', 'Method']]\n",
    "\n",
    "### writing modified files\n",
    "biom.to_csv('Biom/feature-table.tsv', sep='\\t', index=False)\n",
    "taxa.to_csv('Taxa/taxonomy.tsv', sep='\\t', index=False)\n",
    "fasta_hash  = r\"Rep-seqs/dna-sequences.fasta\"\n",
    "fasta_combo = r\"Rep-seqs/dna-sequences.fa\"\n",
    "hlist = biom['#OTU ID'].tolist()\n",
    "with open(fasta_hash) as hashes, open(fasta_combo, 'w') as combo:\n",
    "  for record in SeqIO.parse(fasta_hash, 'fasta'):\n",
    "    for h in hlist:\n",
    "      if str(record.id) in str(h):\n",
    "        combo.write('>'+str(h)+'\\n'+str(record.seq)+'\\n')\n",
    "\n",
    "#some cleaning and renaming\n",
    "!rm $fasta_hash\n",
    "!mv $fasta_combo $fasta_hash"
   ]
  },
  {
   "cell_type": "code",
   "execution_count": 2,
   "metadata": {},
   "outputs": [
    {
     "name": "stdout",
     "output_type": "stream",
     "text": [
      "\u001b[32mImported Biom/feature-table.biom as BIOMV210Format to Data/combo_table.qza\u001b[0m\n",
      "\u001b[32mImported Taxa/taxonomy.tsv as TSVTaxonomyDirectoryFormat to Data/combo_taxonomy.qza\u001b[0m\n",
      "\u001b[32mImported Rep-seqs/dna-sequences.fasta as DNASequencesDirectoryFormat to Data/combo_rep-seqs.qza\u001b[0m\n",
      "\u001b[32mSaved Visualization to: Data/combo_table.qzv\u001b[0m\n"
     ]
    }
   ],
   "source": [
    "#creating new rep-seqs.qza, table.qza and taxonomy.qza with modified hashes (added 'combo_' in the name)\n",
    "!biom convert -i Biom/feature-table.tsv -o Biom/feature-table.biom --table-type=\"OTU table\" --to-hdf5\n",
    "\n",
    "!qiime tools import \\\n",
    "  --input-path Biom/feature-table.biom \\\n",
    "  --type 'FeatureTable[Frequency]' \\\n",
    "  --input-format BIOMV210Format \\\n",
    "  --output-path Data/combo_table.qza\n",
    "\n",
    "!qiime tools import \\\n",
    "  --type 'FeatureData[Taxonomy]' \\\n",
    "  --input-path Taxa/taxonomy.tsv \\\n",
    "  --output-path Data/combo_taxonomy.qza\n",
    "\n",
    "!qiime tools import \\\n",
    "  --input-path $fasta_hash \\\n",
    "  --type 'FeatureData[Sequence]' \\\n",
    "  --output-path Data/combo_rep-seqs.qza\n",
    "\n",
    "!rm -r Biom Taxa Rep-seqs #clean temp directories\n",
    "\n",
    "!qiime feature-table summarize \\\n",
    "  --i-table Data/combo_table.qza \\\n",
    "  --m-sample-metadata-file metadata.tsv \\\n",
    "  --o-visualization Data/combo_table.qzv"
   ]
  },
  {
   "cell_type": "markdown",
   "metadata": {},
   "source": [
    "# Filtration to remove low abundant features"
   ]
  },
  {
   "cell_type": "code",
   "execution_count": 3,
   "metadata": {},
   "outputs": [
    {
     "name": "stdout",
     "output_type": "stream",
     "text": [
      "mkdir: cannot create directory ‘Data/Divided_tables’: File exists\n",
      "\u001b[32mSaved FeatureTable[Frequency] to: Data/Divided_tables/full-table.qza\u001b[0m\n",
      "\u001b[32mSaved FeatureTable[Frequency] to: Data/Divided_tables/full-table.qza\u001b[0m\n",
      "\u001b[32mSaved Visualization to: Data/Divided_tables/full-table.qzv\u001b[0m\n",
      "\u001b[32mSaved FeatureData[Sequence] to: Data/combo_rep-seqs.qza\u001b[0m\n"
     ]
    }
   ],
   "source": [
    "tabdir = 'Data/Divided_tables'\n",
    "\n",
    "!mkdir $tabdir\n",
    "\n",
    "!qiime taxa filter-table \\\n",
    "  --i-table Data/combo_table.qza \\\n",
    "  --i-taxonomy Data/combo_taxonomy.qza \\\n",
    "  --p-include p__ \\\n",
    "  --p-exclude mitochondria,chloroplast \\\n",
    "  --o-filtered-table $tabdir/full-table.qza\n",
    "\n",
    "!qiime feature-table filter-samples \\\n",
    "  --i-table $tabdir/full-table.qza \\\n",
    "  --p-min-features 50 \\\n",
    "  --p-min-frequency 3000 \\\n",
    "  --o-filtered-table $tabdir/full-table.qza\n",
    "\n",
    "!qiime feature-table summarize \\\n",
    "  --i-table $tabdir/full-table.qza \\\n",
    "  --o-visualization $tabdir/full-table.qzv \\\n",
    "  --m-sample-metadata-file metadata.tsv\n",
    "\n",
    "!qiime feature-table filter-seqs \\\n",
    "  --i-data Data/combo_rep-seqs.qza \\\n",
    "  --i-table $tabdir/full-table.qza \\\n",
    "  --o-filtered-data Data/combo_rep-seqs.qza"
   ]
  },
  {
   "cell_type": "markdown",
   "metadata": {},
   "source": [
    "# Generate a tree for phylogenetic diversity analysis"
   ]
  },
  {
   "cell_type": "code",
   "execution_count": 4,
   "metadata": {},
   "outputs": [
    {
     "name": "stdout",
     "output_type": "stream",
     "text": [
      "\u001b[32mSaved FeatureData[AlignedSequence] to: Data/aligned-rep-seqs.qza\u001b[0m\n",
      "\u001b[32mSaved FeatureData[AlignedSequence] to: Data/masked-aligned-rep-seqs.qza\u001b[0m\n",
      "\u001b[32mSaved Phylogeny[Unrooted] to: Data/unrooted-tree.qza\u001b[0m\n",
      "\u001b[32mSaved Phylogeny[Rooted] to: Data/rooted-tree.qza\u001b[0m\n"
     ]
    }
   ],
   "source": [
    "!qiime phylogeny align-to-tree-mafft-fasttree \\\n",
    "  --i-sequences Data/combo_rep-seqs.qza \\\n",
    "  --p-n-threads 2 \\\n",
    "  --o-alignment Data/aligned-rep-seqs.qza \\\n",
    "  --o-masked-alignment Data/masked-aligned-rep-seqs.qza \\\n",
    "  --o-tree Data/unrooted-tree.qza \\\n",
    "  --o-rooted-tree Data/rooted-tree.qza"
   ]
  },
  {
   "cell_type": "markdown",
   "metadata": {},
   "source": [
    "# Taxabarplots"
   ]
  },
  {
   "cell_type": "code",
   "execution_count": 5,
   "metadata": {},
   "outputs": [
    {
     "name": "stdout",
     "output_type": "stream",
     "text": [
      "\u001b[32mSaved Visualization to: Results/Taxa_barplots/full-taxabarplot.qzv\u001b[0m\n"
     ]
    }
   ],
   "source": [
    "!mkdir -p Results/Taxa_barplots\n",
    "!qiime taxa barplot \\\n",
    "  --i-table Data/Divided_tables/full-table.qza \\\n",
    "  --i-taxonomy Data/combo_taxonomy.qza \\\n",
    "  --m-metadata-file metadata.tsv \\\n",
    "  --o-visualization Results/Taxa_barplots/full-taxabarplot.qzv"
   ]
  },
  {
   "cell_type": "markdown",
   "metadata": {},
   "source": [
    "# Alpha and beta diversity analysis"
   ]
  },
  {
   "cell_type": "markdown",
   "metadata": {},
   "source": [
    "### Alpha rarefaction plotting"
   ]
  },
  {
   "cell_type": "code",
   "execution_count": 6,
   "metadata": {},
   "outputs": [
    {
     "name": "stdout",
     "output_type": "stream",
     "text": [
      "\u001b[32mSaved Visualization to: Results/Alpha_rarefaction.qzv\u001b[0m\n"
     ]
    }
   ],
   "source": [
    "!qiime diversity alpha-rarefaction \\\n",
    "  --i-table Data/Divided_tables/full-table.qza \\\n",
    "  --i-phylogeny Data/rooted-tree.qza \\\n",
    "  --p-max-depth 30000 \\\n",
    "  --m-metadata-file metadata.tsv \\\n",
    "  --o-visualization Results/Alpha_rarefaction.qzv"
   ]
  },
  {
   "cell_type": "markdown",
   "metadata": {},
   "source": [
    "### Core-metrics-phylogenetic: Core diversity metrics (phylogenetic and non-phylogenetic)"
   ]
  },
  {
   "cell_type": "code",
   "execution_count": 7,
   "metadata": {},
   "outputs": [
    {
     "name": "stdout",
     "output_type": "stream",
     "text": [
      "\u001b[32mSaved FeatureTable[Frequency] to: Results/Core-metrics/rarefied_table.qza\u001b[0m\n",
      "\u001b[32mSaved SampleData[AlphaDiversity] to: Results/Core-metrics/faith_pd_vector.qza\u001b[0m\n",
      "\u001b[32mSaved SampleData[AlphaDiversity] to: Results/Core-metrics/observed_features_vector.qza\u001b[0m\n",
      "\u001b[32mSaved SampleData[AlphaDiversity] to: Results/Core-metrics/shannon_vector.qza\u001b[0m\n",
      "\u001b[32mSaved SampleData[AlphaDiversity] to: Results/Core-metrics/evenness_vector.qza\u001b[0m\n",
      "\u001b[32mSaved DistanceMatrix to: Results/Core-metrics/unweighted_unifrac_distance_matrix.qza\u001b[0m\n",
      "\u001b[32mSaved DistanceMatrix to: Results/Core-metrics/weighted_unifrac_distance_matrix.qza\u001b[0m\n",
      "\u001b[32mSaved DistanceMatrix to: Results/Core-metrics/jaccard_distance_matrix.qza\u001b[0m\n",
      "\u001b[32mSaved DistanceMatrix to: Results/Core-metrics/bray_curtis_distance_matrix.qza\u001b[0m\n",
      "\u001b[32mSaved PCoAResults to: Results/Core-metrics/unweighted_unifrac_pcoa_results.qza\u001b[0m\n",
      "\u001b[32mSaved PCoAResults to: Results/Core-metrics/weighted_unifrac_pcoa_results.qza\u001b[0m\n",
      "\u001b[32mSaved PCoAResults to: Results/Core-metrics/jaccard_pcoa_results.qza\u001b[0m\n",
      "\u001b[32mSaved PCoAResults to: Results/Core-metrics/bray_curtis_pcoa_results.qza\u001b[0m\n",
      "\u001b[32mSaved Visualization to: Results/Core-metrics/unweighted_unifrac_emperor.qzv\u001b[0m\n",
      "\u001b[32mSaved Visualization to: Results/Core-metrics/weighted_unifrac_emperor.qzv\u001b[0m\n",
      "\u001b[32mSaved Visualization to: Results/Core-metrics/jaccard_emperor.qzv\u001b[0m\n",
      "\u001b[32mSaved Visualization to: Results/Core-metrics/bray_curtis_emperor.qzv\u001b[0m\n"
     ]
    }
   ],
   "source": [
    "!qiime diversity core-metrics-phylogenetic \\\n",
    "  --i-phylogeny Data/rooted-tree.qza \\\n",
    "  --i-table Data/Divided_tables/full-table.qza \\\n",
    "  --p-sampling-depth 5856 \\\n",
    "  --m-metadata-file metadata.tsv \\\n",
    "  --p-n-jobs-or-threads 'auto' \\\n",
    "  --output-dir Results/Core-metrics"
   ]
  },
  {
   "cell_type": "markdown",
   "metadata": {},
   "source": [
    "### Principal Coordinate Analysis Biplot"
   ]
  },
  {
   "cell_type": "code",
   "execution_count": 8,
   "metadata": {},
   "outputs": [
    {
     "name": "stdout",
     "output_type": "stream",
     "text": [
      "mkdir: cannot create directory ‘Data/Relative_tables’: File exists\n",
      "\u001b[32mSaved FeatureTable[RelativeFrequency] to: Data/Relative_tables/full-relative_table.qza\u001b[0m\n",
      "\u001b[32mSaved PCoAResults % Properties('biplot') to: Results/Biplots/unweighted_unifrac_biplot.qza\u001b[0m\n",
      "\u001b[32mSaved Visualization to: Results/Biplots/unweighted_unifrac_biplot.qzv\u001b[0m\n",
      "\u001b[32mSaved PCoAResults % Properties('biplot') to: Results/Biplots/weighted_unifrac_biplot.qza\u001b[0m\n",
      "\u001b[32mSaved Visualization to: Results/Biplots/weighted_unifrac_biplot.qzv\u001b[0m\n",
      "\u001b[32mSaved PCoAResults % Properties('biplot') to: Results/Biplots/jaccard_biplot.qza\u001b[0m\n",
      "\u001b[32mSaved Visualization to: Results/Biplots/jaccard_biplot.qzv\u001b[0m\n",
      "\u001b[32mSaved PCoAResults % Properties('biplot') to: Results/Biplots/bray_curtis_biplot.qza\u001b[0m\n",
      "\u001b[32mSaved Visualization to: Results/Biplots/bray_curtis_biplot.qzv\u001b[0m\n"
     ]
    }
   ],
   "source": [
    "table = 'Data/Divided_tables/full-table.qza'\n",
    "reltab = 'Data/Relative_tables/full-relative_table.qza'\n",
    "  \n",
    "  # Converting feature table [Frequency] to [Relative frequency]\n",
    "!mkdir Data/Relative_tables\n",
    "!qiime feature-table relative-frequency \\\n",
    "  --i-table Data/Divided_tables/full-table.qza \\\n",
    "  --o-relative-frequency-table $reltab\n",
    "\n",
    "for artifact in ['unweighted_unifrac', 'weighted_unifrac', 'jaccard', 'bray_curtis']:\n",
    "  pcoa  = 'Results/Core-metrics/%s_pcoa_results.qza' % artifact\n",
    "  bidir = 'Results/Biplots'\n",
    "  biplot= bidir+'/%s_biplot.qza' % artifact\n",
    "  bi_qzv= bidir+'/%s_biplot.qzv' % artifact\n",
    "\n",
    "  !mkdir -p $bidir\n",
    "    \n",
    "  # pcoa-biplot: Principal Coordinate Analysis Biplot     \n",
    "  !qiime diversity pcoa-biplot \\\n",
    "    --i-pcoa $pcoa \\\n",
    "    --i-features $reltab \\\n",
    "    --o-biplot $biplot\n",
    "\n",
    "  !qiime emperor biplot \\\n",
    "    --i-biplot $biplot \\\n",
    "    --m-sample-metadata-file metadata.tsv \\\n",
    "    --p-ignore-missing-samples \\\n",
    "    --p-number-of-features 5 \\\n",
    "    --o-visualization $bi_qzv"
   ]
  }
 ],
 "metadata": {
  "kernelspec": {
   "display_name": "Python 3",
   "language": "python",
   "name": "python3"
  },
  "language_info": {
   "codemirror_mode": {
    "name": "ipython",
    "version": 3
   },
   "file_extension": ".py",
   "mimetype": "text/x-python",
   "name": "python",
   "nbconvert_exporter": "python",
   "pygments_lexer": "ipython3",
   "version": "3.8.5"
  }
 },
 "nbformat": 4,
 "nbformat_minor": 4
}
