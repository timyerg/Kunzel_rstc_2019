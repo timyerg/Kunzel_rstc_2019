{
 "cells": [
  {
   "cell_type": "markdown",
   "metadata": {},
   "source": [
    "# Import demultiplexed filtered reads"
   ]
  },
  {
   "cell_type": "code",
   "execution_count": 1,
   "metadata": {},
   "outputs": [],
   "source": [
    "import pandas as pd\n",
    "import os\n",
    "met = pd.read_csv('metadata.tsv', sep='\\t', index_col='#SampleID')\n",
    "\n",
    "# sort reads by sequencing run\n",
    "\n",
    "for sr in set(met.SeqRun):\n",
    "  fwd = 'Data/Demux/'+sr+'_fwd'\n",
    "  !mkdir $fwd\n",
    "  !cp Data/Demux/$sr/*_R1_* $fwd"
   ]
  },
  {
   "cell_type": "code",
   "execution_count": 2,
   "metadata": {},
   "outputs": [
    {
     "name": "stdout",
     "output_type": "stream",
     "text": [
      "\u001b[32mImported Data/Demux/SeqRun_2_fwd as CasavaOneEightSingleLanePerSampleDirFmt to Data/Demux/SeqRun_2_demux_fwd.qza\u001b[0m\n",
      "\u001b[32mSaved Visualization to: Data/Demux/SeqRun_2_demux_fwd.qzv\u001b[0m\n"
     ]
    }
   ],
   "source": [
    "import pandas as pd\n",
    "met = pd.read_csv('metadata.tsv', sep='\\t', index_col='#SampleID')\n",
    "\n",
    "# import reads\n",
    "for sr in set(met.SeqRun):\n",
    "  demux = 'Data/Demux/%s_demux_fwd.qza'%sr\n",
    "  deqzv = 'Data/Demux/%s_demux_fwd.qzv'%sr\n",
    "  fwd = 'Data/Demux/'+sr+'_fwd'\n",
    "  \n",
    "  !qiime tools import \\\n",
    "    --type 'SampleData[SequencesWithQuality]' \\\n",
    "    --input-path $fwd \\\n",
    "    --input-format CasavaOneEightSingleLanePerSampleDirFmt \\\n",
    "    --output-path $demux\n",
    "  \n",
    "  !qiime demux summarize \\\n",
    "    --i-data $demux \\\n",
    "    --o-visualization $deqzv"
   ]
  },
  {
   "cell_type": "code",
   "execution_count": 3,
   "metadata": {},
   "outputs": [
    {
     "name": "stdout",
     "output_type": "stream",
     "text": [
      "mkdir: cannot create directory ‘Data/Cutadapt’: File exists\n",
      "\u001b[32mSaved SampleData[SequencesWithQuality] to: Data/Cutadapt/SeqRun_2_trim_fwd.qza\u001b[0m\n",
      "\u001b[32mSaved Visualization to: Data/Cutadapt/SeqRun_2_trim_fwd.qzv\u001b[0m\n"
     ]
    }
   ],
   "source": [
    "import pandas as pd\n",
    "met = pd.read_csv('metadata.tsv', sep='\\t', index_col='#SampleID')\n",
    "\n",
    "cutadapt = 'Data/Cutadapt'\n",
    "!mkdir $cutadapt\n",
    "for sr in set(met.SeqRun):\n",
    "  demux = 'Data/Demux/%s_demux_fwd.qza'%sr\n",
    "  cutad = cutadapt+'/%s_trim_fwd.qza'%sr\n",
    "  cuqzv = cutadapt+'/%s_trim_fwd.qzv'%sr\n",
    "  \n",
    "  !qiime cutadapt trim-single \\\n",
    "    --i-demultiplexed-sequences $demux \\\n",
    "    --o-trimmed-sequences $cutad \\\n",
    "    --p-cores 10 \\\n",
    "    --p-front CAGYGCASCAGKCGMGAA \\\n",
    "    --p-adapter GGGGGGGGGGGGGGGGGGGG \\\n",
    "    --p-error-rate 0.2 \\\n",
    "    --p-match-adapter-wildcards \\\n",
    "    --p-discard-untrimmed \\\n",
    "    --p-match-read-wildcards\n",
    "\n",
    "  # Visualization\n",
    "  !qiime demux summarize \\\n",
    "      --i-data $cutad \\\n",
    "      --o-visualization $cuqzv"
   ]
  },
  {
   "cell_type": "markdown",
   "metadata": {},
   "source": [
    "# VSEARCH"
   ]
  },
  {
   "cell_type": "code",
   "execution_count": 2,
   "metadata": {
    "collapsed": true,
    "jupyter": {
     "outputs_hidden": true,
     "source_hidden": true
    },
    "tags": []
   },
   "outputs": [
    {
     "name": "stdout",
     "output_type": "stream",
     "text": [
      "\u001b[32mSaved SampleData[JoinedSequencesWithQuality] to: Data/Joined/SeqRun_2_joined.qza\u001b[0m\n",
      "\u001b[32mSaved Visualization to: Data/Joined/SeqRun_2_joined.qzv\u001b[0m\n"
     ]
    }
   ],
   "source": [
    "import pandas as pd\n",
    "met = pd.read_csv('metadata.tsv', sep='\\t', index_col='#SampleID')\n",
    "\n",
    "!mkdir Data/Joined\n",
    "for sr in set(met.SeqRun):\n",
    "  cutad = 'Data/Cutadapt/%s_trim.qza'%sr\n",
    "  joined = 'Data/Joined/%s_joined.qza'%sr\n",
    "  joiqzv = 'Data/Joined/%s_joined.qzv'%sr\n",
    "  \n",
    "  !qiime vsearch join-pairs \\\n",
    "    --i-demultiplexed-seqs $cutad \\\n",
    "    --p-minovlen 0 \\\n",
    "    --p-threads 8 \\\n",
    "    --p-allowmergestagger \\\n",
    "    --o-joined-sequences $joined\n",
    "  \n",
    "  !qiime demux summarize \\\n",
    "    --i-data $joined \\\n",
    "    --o-visualization $joiqzv"
   ]
  },
  {
   "cell_type": "code",
   "execution_count": 3,
   "metadata": {
    "collapsed": true,
    "jupyter": {
     "outputs_hidden": true,
     "source_hidden": true
    },
    "tags": []
   },
   "outputs": [
    {
     "name": "stdout",
     "output_type": "stream",
     "text": [
      "\u001b[32mSaved SampleData[JoinedSequencesWithQuality] to: Data/Joined/SeqRun_2_q_filt.qza\u001b[0m\n",
      "\u001b[32mSaved QualityFilterStats to: Data/Joined/SeqRun_2_q_stat.qza\u001b[0m\n",
      "\u001b[32mSaved Visualization to: Data/Joined/SeqRun_2_q_filt.qzv\u001b[0m\n"
     ]
    }
   ],
   "source": [
    "import pandas as pd\n",
    "met = pd.read_csv('metadata.tsv', sep='\\t', index_col='#SampleID')\n",
    "\n",
    "for sr in set(met.SeqRun):\n",
    "  joined = 'Data/Joined/%s_joined.qza'%sr\n",
    "  q_filt = 'Data/Joined/%s_q_filt.qza'%sr\n",
    "  q_stat = 'Data/Joined/%s_q_stat.qza'%sr\n",
    "  qvfilt = 'Data/Joined/%s_q_filt.qzv'%sr\n",
    "\n",
    "  !qiime quality-filter q-score \\\n",
    "    --i-demux $joined \\\n",
    "    --o-filtered-sequences $q_filt \\\n",
    "    --o-filter-stats $q_stat\n",
    "  !qiime demux summarize \\\n",
    "    --i-data $q_filt \\\n",
    "    --o-visualization $qvfilt"
   ]
  },
  {
   "cell_type": "code",
   "execution_count": 4,
   "metadata": {
    "collapsed": true,
    "jupyter": {
     "outputs_hidden": true,
     "source_hidden": true
    },
    "tags": []
   },
   "outputs": [
    {
     "name": "stdout",
     "output_type": "stream",
     "text": [
      "\u001b[32mSaved FeatureTable[Frequency] to: Data/Joined/SeqRun_2_q_drpl_tab.qza\u001b[0m\n",
      "\u001b[32mSaved FeatureData[Sequence] to: Data/Joined/SeqRun_2_q_drpl_seq.qza\u001b[0m\n",
      "\u001b[32mSaved Visualization to: Data/Joined/SeqRun_2_q_drpl_tab.qzv\u001b[0m\n"
     ]
    }
   ],
   "source": [
    "import pandas as pd\n",
    "met = pd.read_csv('metadata.tsv', sep='\\t', index_col='#SampleID')\n",
    "\n",
    "for sr in set(met.SeqRun):\n",
    "  q_filt = 'Data/Joined/%s_q_filt.qza'%sr\n",
    "  t_drpl = 'Data/Joined/%s_q_drpl_tab.qza'%sr\n",
    "  tvdrpl = 'Data/Joined/%s_q_drpl_tab.qzv'%sr\n",
    "  q_drpl = 'Data/Joined/%s_q_drpl_seq.qza'%sr\n",
    "\n",
    "  !qiime vsearch dereplicate-sequences \\\n",
    "    --i-sequences $q_filt \\\n",
    "    --o-dereplicated-table $t_drpl \\\n",
    "    --o-dereplicated-sequences $q_drpl\n",
    "  !qiime feature-table summarize \\\n",
    "    --i-table $t_drpl \\\n",
    "    --o-visualization $tvdrpl \\\n",
    "    --m-sample-metadata-file metadata.tsv"
   ]
  },
  {
   "cell_type": "code",
   "execution_count": 5,
   "metadata": {
    "collapsed": true,
    "jupyter": {
     "outputs_hidden": true,
     "source_hidden": true
    },
    "tags": []
   },
   "outputs": [
    {
     "name": "stdout",
     "output_type": "stream",
     "text": [
      "\u001b[32mSaved FeatureTable[Frequency] to: Data/Joined/SeqRun_2_q_clst_tab.qza\u001b[0m\n",
      "\u001b[32mSaved FeatureData[Sequence] to: Data/Joined/SeqRun_2_q_clst_seq.qza\u001b[0m\n",
      "\u001b[32mSaved Visualization to: Data/Joined/SeqRun_2_q_clst_tab.qzv\u001b[0m\n"
     ]
    }
   ],
   "source": [
    "import pandas as pd\n",
    "met = pd.read_csv('metadata.tsv', sep='\\t', index_col='#SampleID')\n",
    "\n",
    "for sr in set(met.SeqRun):\n",
    "  t_drpl = 'Data/Joined/%s_q_drpl_tab.qza'%sr\n",
    "  q_drpl = 'Data/Joined/%s_q_drpl_seq.qza'%sr\n",
    "  t_clst = 'Data/Joined/%s_q_clst_tab.qza'%sr\n",
    "  tvclst = 'Data/Joined/%s_q_clst_tab.qzv'%sr\n",
    "  q_clst = 'Data/Joined/%s_q_clst_seq.qza'%sr\n",
    "\n",
    "  !qiime vsearch cluster-features-de-novo \\\n",
    "    --i-sequences $q_drpl \\\n",
    "    --i-table $t_drpl \\\n",
    "    --p-perc-identity 0.97 \\\n",
    "    --p-threads 10 \\\n",
    "    --o-clustered-table $t_clst \\\n",
    "    --o-clustered-sequences $q_clst\n",
    "  !qiime feature-table summarize \\\n",
    "    --i-table $t_clst \\\n",
    "    --o-visualization $tvclst \\\n",
    "    --m-sample-metadata-file metadata.tsv"
   ]
  },
  {
   "cell_type": "code",
   "execution_count": 6,
   "metadata": {
    "collapsed": true,
    "jupyter": {
     "outputs_hidden": true,
     "source_hidden": true
    },
    "tags": []
   },
   "outputs": [
    {
     "name": "stdout",
     "output_type": "stream",
     "text": [
      "\u001b[32mSaved FeatureData[Sequence] to: Data/Joined/SeqRun_2_chimeras.qza\u001b[0m\n",
      "\u001b[32mSaved FeatureData[Sequence] to: Data/Joined/SeqRun_2_nonchimera.qza\u001b[0m\n",
      "\u001b[32mSaved UchimeStats to: Data/Joined/SeqRun_2_stata.qza\u001b[0m\n"
     ]
    }
   ],
   "source": [
    "import pandas as pd\n",
    "met = pd.read_csv('metadata.tsv', sep='\\t', index_col='#SampleID')\n",
    "\n",
    "for sr in set(met.SeqRun):\n",
    "  t_clst = 'Data/Joined/%s_q_clst_tab.qza'%sr\n",
    "  q_clst = 'Data/Joined/%s_q_clst_seq.qza'%sr\n",
    "  chimer = 'Data/Joined/%s_chimeras.qza'  %sr\n",
    "  nonchs = 'Data/Joined/%s_nonchimera.qza'%sr\n",
    "  stats  = 'Data/Joined/%s_stata.qza'     %sr\n",
    "\n",
    "  !qiime vsearch uchime-denovo \\\n",
    "    --i-sequences $q_clst \\\n",
    "    --i-table $t_clst \\\n",
    "    --o-chimeras $chimer \\\n",
    "    --o-nonchimeras $nonchs \\\n",
    "    --o-stats $stats"
   ]
  },
  {
   "cell_type": "code",
   "execution_count": 13,
   "metadata": {
    "collapsed": true,
    "jupyter": {
     "outputs_hidden": true,
     "source_hidden": true
    },
    "tags": []
   },
   "outputs": [
    {
     "name": "stdout",
     "output_type": "stream",
     "text": [
      "\u001b[32mSaved FeatureTable[Frequency] to: Data/Joined/SeqRun_2_table.qza\u001b[0m\n",
      "\u001b[32mSaved Visualization to: Data/Joined/SeqRun_2_table.qzv\u001b[0m\n"
     ]
    }
   ],
   "source": [
    "import pandas as pd\n",
    "met = pd.read_csv('metadata.tsv', sep='\\t', index_col='#SampleID')\n",
    "\n",
    "for sr in set(met.SeqRun):\n",
    "  t_clst = 'Data/Joined/%s_q_clst_tab.qza'%sr\n",
    "  table  = 'Data/Joined/%s_table.qza'     %sr\n",
    "  tablv  = 'Data/Joined/%s_table.qzv'     %sr\n",
    "  nonchs = 'Data/Joined/%s_nonchimera.qza'%sr\n",
    "\n",
    "  !qiime feature-table filter-features \\\n",
    "    --i-table $t_clst \\\n",
    "    --m-metadata-file $nonchs \\\n",
    "    --o-filtered-table $table\n",
    "  !qiime feature-table summarize \\\n",
    "    --i-table $table \\\n",
    "    --o-visualization $tablv \\\n",
    "    --m-sample-metadata-file metadata.tsv  "
   ]
  },
  {
   "cell_type": "markdown",
   "metadata": {
    "tags": []
   },
   "source": [
    "# Dada2 denoising"
   ]
  },
  {
   "cell_type": "code",
   "execution_count": 4,
   "metadata": {
    "tags": []
   },
   "outputs": [
    {
     "name": "stdout",
     "output_type": "stream",
     "text": [
      "\u001b[32mSaved FeatureTable[Frequency] to: Data/Denoised_fwd/SeqRun_2_arc_table.qza\u001b[0m\n",
      "\u001b[32mSaved FeatureData[Sequence] to: Data/Denoised_fwd/SeqRun_2_arc_rep-seqs.qza\u001b[0m\n",
      "\u001b[32mSaved SampleData[DADA2Stats] to: Data/Denoised_fwd/SeqRun_2_arc_denoising-stats.qza\u001b[0m\n",
      "\u001b[32mSaved Visualization to: Data/Denoised_fwd/SeqRun_2_arc_rep-seqs.qzv\u001b[0m\n",
      "\u001b[32mSaved Visualization to: Data/Denoised_fwd/SeqRun_2_arc_denoising-stats.qzv\u001b[0m\n",
      "\u001b[32mSaved Visualization to: Data/Denoised_fwd/SeqRun_2_arc_table.qzv\u001b[0m\n"
     ]
    }
   ],
   "source": [
    "import pandas as pd\n",
    "met = pd.read_csv('metadata.tsv', sep='\\t', index_col='#SampleID')\n",
    "\n",
    "outdir = 'Data/Denoised_fwd'\n",
    "!mkdir $outdir\n",
    "for sr in set(met.SeqRun):\n",
    "  cutad = 'Data/Cutadapt/%s_trim.qza'%sr\n",
    "  table = outdir+'/%s_arc_table.qza'%sr\n",
    "  taqzv = outdir+'/%s_arc_table.qzv'%sr\n",
    "  repsq = outdir+'/%s_arc_rep-seqs.qza'%sr\n",
    "  reqzv = outdir+'/%s_arc_rep-seqs.qzv'%sr\n",
    "  stats = outdir+'/%s_arc_denoising-stats.qza'%sr\n",
    "  stqzv = outdir+'/%s_arc_denoising-stats.qzv'%sr\n",
    "  \n",
    "  !qiime dada2 denoise-single \\\n",
    "    --i-demultiplexed-seqs $cutad \\\n",
    "    --p-trunc-len 0 \\\n",
    "    --p-max-ee 200 \\\n",
    "    --p-n-threads 6 \\\n",
    "    --o-table $table \\\n",
    "    --o-representative-sequences $repsq \\\n",
    "    --o-denoising-stats $stats\n",
    "\n",
    "  !qiime feature-table tabulate-seqs \\\n",
    "    --i-data $repsq \\\n",
    "    --o-visualization $reqzv\n",
    "\n",
    "  !qiime metadata tabulate \\\n",
    "    --m-input-file $stats \\\n",
    "    --o-visualization $stqzv\n",
    "\n",
    "  !qiime feature-table summarize \\\n",
    "    --i-table $table \\\n",
    "    --o-visualization $taqzv \\\n",
    "    --m-sample-metadata-file metadata.tsv"
   ]
  },
  {
   "cell_type": "markdown",
   "metadata": {},
   "source": [
    "# Merge different runs"
   ]
  },
  {
   "cell_type": "code",
   "execution_count": 38,
   "metadata": {
    "collapsed": true,
    "jupyter": {
     "outputs_hidden": true,
     "source_hidden": true
    },
    "tags": []
   },
   "outputs": [
    {
     "name": "stdout",
     "output_type": "stream",
     "text": [
      "\u001b[32mSaved FeatureTable[Frequency] to: Data/merged_table.qza\u001b[0m\n"
     ]
    }
   ],
   "source": [
    "!qiime feature-table merge \\\n",
    "  --i-tables Data/Denoised_180-200/*bac_table.qza \\\n",
    "  --o-merged-table Data/merged_table.qza\n",
    "\n",
    "!qiime feature-table merge-seqs \\\n",
    "  --i-data Data/Denoised_180-200/*bac_rep-seqs.qza \\\n",
    "  --o-merged-data Data/merged_rep-seqs.qza\n",
    "\n",
    "!qiime feature-table summarize \\\n",
    "  --i-table Data/merged_table.qza \\\n",
    "  --o-visualization Data/merged_table.qzv \\\n",
    "  --m-sample-metadata-file metadata.tsv"
   ]
  },
  {
   "cell_type": "code",
   "execution_count": 22,
   "metadata": {
    "collapsed": true,
    "jupyter": {
     "outputs_hidden": true,
     "source_hidden": true
    },
    "tags": []
   },
   "outputs": [
    {
     "name": "stdout",
     "output_type": "stream",
     "text": [
      "\u001b[32mSaved FeatureTable[Frequency] to: Data/vsearch-table.qza\u001b[0m\n",
      "\u001b[32mSaved Visualization to: Data/vsearch-table.qzv\u001b[0m\n",
      "\u001b[32mSaved FeatureData[Sequence] to: Data/vsearch-rep-seqs.qza\u001b[0m\n"
     ]
    }
   ],
   "source": [
    "#vsearch\n",
    "table = 'Data/Joined/SeqRun_2_table.qza'\n",
    "clstseq = 'Data/Joined/SeqRun_2_q_clst_seq.qza'\n",
    "\n",
    "!qiime feature-table filter-features \\\n",
    "  --i-table $table \\\n",
    "  --p-min-frequency 50 \\\n",
    "  --p-min-samples 4 \\\n",
    "  --o-filtered-table Data/vsearch-table.qza\n",
    "\n",
    "!qiime feature-table summarize \\\n",
    "  --i-table Data/vsearch-table.qza \\\n",
    "  --o-visualization Data/vsearch-table.qzv \\\n",
    "  --m-sample-metadata-file metadata.tsv\n",
    "\n",
    "!qiime feature-table filter-seqs \\\n",
    "  --i-data $clstseq \\\n",
    "  --i-table Data/vsearch-table.qza \\\n",
    "  --o-filtered-data Data/vsearch-rep-seqs.qza"
   ]
  },
  {
   "cell_type": "code",
   "execution_count": 5,
   "metadata": {},
   "outputs": [
    {
     "name": "stdout",
     "output_type": "stream",
     "text": [
      "\u001b[32mSaved FeatureTable[Frequency] to: Data/dada2-table.qza\u001b[0m\n",
      "\u001b[32mSaved Visualization to: Data/dada2-table.qzv\u001b[0m\n",
      "\u001b[32mSaved FeatureData[Sequence] to: Data/dada2-rep-seqs.qza\u001b[0m\n"
     ]
    }
   ],
   "source": [
    "#dada2\n",
    "table = 'Data/Denoised_fwd/SeqRun_2_arc_table.qza'\n",
    "clstseq = 'Data/Denoised_fwd/SeqRun_2_arc_rep-seqs.qza'\n",
    "\n",
    "!qiime feature-table filter-features \\\n",
    "  --i-table $table \\\n",
    "  --p-min-frequency 5 \\\n",
    "  --p-min-samples 2 \\\n",
    "  --o-filtered-table Data/dada2-table.qza\n",
    "\n",
    "!qiime feature-table summarize \\\n",
    "  --i-table Data/dada2-table.qza \\\n",
    "  --o-visualization Data/dada2-table.qzv \\\n",
    "  --m-sample-metadata-file metadata.tsv\n",
    "\n",
    "!qiime feature-table filter-seqs \\\n",
    "  --i-data $clstseq \\\n",
    "  --i-table Data/dada2-table.qza \\\n",
    "  --o-filtered-data Data/dada2-rep-seqs.qza"
   ]
  },
  {
   "cell_type": "markdown",
   "metadata": {},
   "source": [
    "# Taxonomy assignment"
   ]
  },
  {
   "cell_type": "code",
   "execution_count": 6,
   "metadata": {},
   "outputs": [
    {
     "name": "stdout",
     "output_type": "stream",
     "text": [
      "\u001b[32mSaved FeatureData[Taxonomy] to: Data/its_dada2_taxonomy_vsearch-sklearn.qza\u001b[0m\n",
      "\u001b[32mSaved Visualization to: Data/its_dada2_taxonomy_vsearch-sklearn.qzv\u001b[0m\n"
     ]
    }
   ],
   "source": [
    "#dada2\n",
    "!qiime feature-classifier classify-hybrid-vsearch-sklearn \\\n",
    "  --i-query Data/dada2-rep-seqs.qza \\\n",
    "  --i-reference-reads ../Classifier/silva-138_1-ssu-nr99-seqs-its-uniq.qza \\\n",
    "  --i-reference-taxonomy ../Classifier/silva-138_1-ssu-nr99-tax-its-derep-uniq.qza \\\n",
    "  --i-classifier ../Classifier/ITS-ssu-nr99-classifier.qza \\\n",
    "  --p-threads 4 \\\n",
    "  --p-no-prefilter \\\n",
    "  --o-classification Data/its_dada2_taxonomy_vsearch-sklearn.qza\n",
    "\n",
    "!qiime metadata tabulate \\\n",
    "  --m-input-file Data/its_dada2_taxonomy_vsearch-sklearn.qza \\\n",
    "  --o-visualization Data/its_dada2_taxonomy_vsearch-sklearn.qzv"
   ]
  },
  {
   "cell_type": "markdown",
   "metadata": {},
   "source": [
    "# Combo: Combining ASV hashes with last available taxa "
   ]
  },
  {
   "cell_type": "code",
   "execution_count": 3,
   "metadata": {
    "collapsed": true,
    "jupyter": {
     "outputs_hidden": true
    },
    "tags": []
   },
   "outputs": [
    {
     "name": "stdout",
     "output_type": "stream",
     "text": [
      "Collecting biopython\n",
      "  Downloading biopython-1.78-cp36-cp36m-manylinux1_x86_64.whl (2.3 MB)\n",
      "\u001b[K     |████████████████████████████████| 2.3 MB 1.9 MB/s eta 0:00:01\n",
      "\u001b[?25hRequirement already satisfied: numpy in /home/timyerg/anaconda3/envs/qiime2-2021.2/lib/python3.6/site-packages (from biopython) (1.19.5)\n",
      "Installing collected packages: biopython\n",
      "Successfully installed biopython-1.78\n"
     ]
    }
   ],
   "source": [
    "# Install biopython\n",
    "!pip install biopython"
   ]
  },
  {
   "cell_type": "code",
   "execution_count": 7,
   "metadata": {},
   "outputs": [
    {
     "name": "stdout",
     "output_type": "stream",
     "text": [
      "\u001b[32mExported Data/dada2-table.qza as BIOMV210DirFmt to directory Biom/\u001b[0m\n",
      "\u001b[32mExported Data/its_dada2_taxonomy_vsearch-sklearn.qza as TSVTaxonomyDirectoryFormat to directory Taxa\u001b[0m\n",
      "\u001b[32mExported Data/dada2-rep-seqs.qza as DNASequencesDirectoryFormat to directory Rep-seqs/\u001b[0m\n"
     ]
    }
   ],
   "source": [
    "import pandas as pd\n",
    "from Bio import SeqIO\n",
    "\n",
    "# declare Qiime2 generated artifacts here\n",
    "table    = 'Data/dada2-table.qza' \n",
    "taxo     = 'Data/its_dada2_taxonomy_vsearch-sklearn.qza'\n",
    "rep_seq  = 'Data/dada2-rep-seqs.qza'\n",
    "\n",
    "# export rep-seqs.qza, table.qza and taxonomy.qza\n",
    "!mkdir Biom Taxa Rep-seqs #temp directories\n",
    "\n",
    "!qiime tools export \\\n",
    "  --input-path $table \\\n",
    "  --output-path Biom/\n",
    "\n",
    "!qiime tools export \\\n",
    "  --input-path $taxo \\\n",
    "  --output-path Taxa\n",
    "\n",
    "!qiime tools export \\\n",
    "  --input-path $rep_seq \\\n",
    "  --output-path Rep-seqs/\n",
    "\n",
    "# convert .biom to .tsv\n",
    "!biom convert -i Biom/feature-table.biom -o Biom/feature-table.tsv --to-tsv \n",
    "\n",
    "# *****replacing hashes with combination of taxonomy and beginings of the hashes*****\n",
    "# reading tables\n",
    "taxa = pd.read_csv('Taxa/taxonomy.tsv', sep='\\t')\n",
    "biom = pd.read_csv('Biom/feature-table.tsv', sep='\\t', skiprows=1)\n",
    "\n",
    "#creating a new column with modified taxonomy\n",
    "#I also shortened some annotations and deleted some symbols \n",
    "#that were crashing tree construction with modified files\n",
    "taxa['Taxon'] = taxa.Taxon.replace(';__','').str.replace('[','').str.replace(']','').str.replace('.','')\\\n",
    ".str.replace('/','_').str.replace(\"'\",'').str.replace(' ','_').str.replace('archaeon_enrichment','arc_enrich')\\\n",
    ".str.replace('uncultured_rumen','unc_rum').str.replace('uncultured_archaeon','unc_arc').str.replace('_archaeon','_arc')\\\n",
    ".str.replace('uncultured_compost','unc_comp').str.replace('uncultured_euryarchaeote','unc_euryarc')\\\n",
    ".str.replace('uncultured','unc').str.replace('unidentified','unid')\n",
    "\n",
    "#dealing with uncultured taxa to provide additional information\n",
    "taxa['Combo'] =  taxa['Taxon'].str.split(\"__\").str[-1].str.split(\";\").str[-1]\n",
    "for x in ['unc_euryarc','unc_rum','unid_methanogen','arc_enrich','unc_arc','unc_comp','unc']:\n",
    "  taxa.loc[taxa['Combo'].str[:]==x,'Combo']=taxa['Taxon'].str.split(\"__\").str[-2].str.split(';').str[0]+'_'+x\n",
    "  \n",
    "for n in range(3,6):\n",
    "  taxa.loc[taxa.Combo.str[:]=='unc_unc_arc','Combo']=taxa.Taxon.str.split(\"__\").str[-n].str.split(';').str[0]+'_unc_arc'\n",
    "  taxa.loc[taxa.Combo.str[:]=='unc_unc_rum','Combo']=taxa.Taxon.str.split(\"__\").str[-n].str.split(';').str[0]+'_unc_rum'\n",
    "  taxa.loc[taxa.Combo.str[:]=='unc_unc','Combo']=taxa.Taxon.str.split(\"__\").str[-n].str.split(';').str[0]+'_unc'\n",
    "  \n",
    "#add modified taxonomy information to feature hashes, separating them by '|'\n",
    "biom['#OTU ID'] = taxa['Combo']+'|'+taxa['Feature ID']\n",
    "taxa['Feature ID'] = biom['#OTU ID']\n",
    "taxa = taxa[['Feature ID', 'Taxon', 'Confidence', 'Consensus', 'Method']]\n",
    "\n",
    "### writing modified files\n",
    "biom.to_csv('Biom/feature-table.tsv', sep='\\t', index=False)\n",
    "taxa.to_csv('Taxa/taxonomy.tsv', sep='\\t', index=False)\n",
    "fasta_hash  = r\"Rep-seqs/dna-sequences.fasta\"\n",
    "fasta_combo = r\"Rep-seqs/dna-sequences.fa\"\n",
    "hlist = biom['#OTU ID'].tolist()\n",
    "with open(fasta_hash) as hashes, open(fasta_combo, 'w') as combo:\n",
    "  for record in SeqIO.parse(fasta_hash, 'fasta'):\n",
    "    for h in hlist:\n",
    "      if str(record.id) in str(h):\n",
    "        combo.write('>'+str(h)+'\\n'+str(record.seq)+'\\n')\n",
    "\n",
    "#some cleaning and renaming\n",
    "!rm $fasta_hash\n",
    "!mv $fasta_combo $fasta_hash"
   ]
  },
  {
   "cell_type": "code",
   "execution_count": 8,
   "metadata": {},
   "outputs": [
    {
     "name": "stdout",
     "output_type": "stream",
     "text": [
      "\u001b[32mImported Biom/feature-table.biom as BIOMV210Format to Data/combo_table.qza\u001b[0m\n",
      "\u001b[32mImported Taxa/taxonomy.tsv as TSVTaxonomyDirectoryFormat to Data/combo_taxonomy.qza\u001b[0m\n",
      "\u001b[32mImported Rep-seqs/dna-sequences.fasta as DNASequencesDirectoryFormat to Data/combo_rep-seqs.qza\u001b[0m\n",
      "\u001b[32mSaved Visualization to: Data/combo_table.qzv\u001b[0m\n"
     ]
    }
   ],
   "source": [
    "#creating new rep-seqs.qza, table.qza and taxonomy.qza with modified hashes (added 'combo_' in the name)\n",
    "!biom convert -i Biom/feature-table.tsv -o Biom/feature-table.biom --table-type=\"OTU table\" --to-hdf5\n",
    "\n",
    "!qiime tools import \\\n",
    "  --input-path Biom/feature-table.biom \\\n",
    "  --type 'FeatureTable[Frequency]' \\\n",
    "  --input-format BIOMV210Format \\\n",
    "  --output-path Data/combo_table.qza\n",
    "\n",
    "!qiime tools import \\\n",
    "  --type 'FeatureData[Taxonomy]' \\\n",
    "  --input-path Taxa/taxonomy.tsv \\\n",
    "  --output-path Data/combo_taxonomy.qza\n",
    "\n",
    "!qiime tools import \\\n",
    "  --input-path $fasta_hash \\\n",
    "  --type 'FeatureData[Sequence]' \\\n",
    "  --output-path Data/combo_rep-seqs.qza\n",
    "\n",
    "!rm -r Biom Taxa Rep-seqs #clean temp directories\n",
    "\n",
    "!qiime feature-table summarize \\\n",
    "  --i-table Data/combo_table.qza \\\n",
    "  --m-sample-metadata-file metadata.tsv \\\n",
    "  --o-visualization Data/combo_table.qzv"
   ]
  },
  {
   "cell_type": "markdown",
   "metadata": {},
   "source": [
    "# Filtration to remove low abundant features"
   ]
  },
  {
   "cell_type": "code",
   "execution_count": 9,
   "metadata": {},
   "outputs": [
    {
     "name": "stdout",
     "output_type": "stream",
     "text": [
      "mkdir: cannot create directory ‘Data/Divided_tables’: File exists\n",
      "\u001b[32mSaved FeatureTable[Frequency] to: Data/Divided_tables/full-table.qza\u001b[0m\n",
      "\u001b[32mSaved Visualization to: Data/Divided_tables/full-table.qzv\u001b[0m\n",
      "\u001b[32mSaved FeatureData[Sequence] to: Data/combo_rep-seqs.qza\u001b[0m\n"
     ]
    }
   ],
   "source": [
    "tabdir = 'Data/Divided_tables'\n",
    "\n",
    "!mkdir $tabdir\n",
    "!qiime taxa filter-table \\\n",
    "  --i-table Data/combo_table.qza \\\n",
    "  --i-taxonomy Data/combo_taxonomy.qza \\\n",
    "  --p-exclude mitochondria,chloroplast,d__Bacteria,d__Eukaryota \\\n",
    "  --p-include p__ \\\n",
    "  --o-filtered-table $tabdir/full-table.qza\n",
    "\n",
    "#!qiime feature-table filter-samples \\\n",
    "#  --i-table $tabdir/full-table.qza \\\n",
    "#  --p-min-features 25 \\\n",
    "#  --p-min-frequency 10000 \\\n",
    "#  --o-filtered-table $tabdir/full-table.qza\n",
    "\n",
    "!qiime feature-table summarize \\\n",
    "  --i-table $tabdir/full-table.qza \\\n",
    "  --o-visualization $tabdir/full-table.qzv \\\n",
    "  --m-sample-metadata-file metadata.tsv\n",
    "\n",
    "!qiime feature-table filter-seqs \\\n",
    "  --i-data Data/combo_rep-seqs.qza \\\n",
    "  --i-table $tabdir/full-table.qza \\\n",
    "  --o-filtered-data Data/combo_rep-seqs.qza"
   ]
  },
  {
   "cell_type": "code",
   "execution_count": null,
   "metadata": {},
   "outputs": [],
   "source": []
  },
  {
   "cell_type": "markdown",
   "metadata": {},
   "source": [
    "# Generate a tree for phylogenetic diversity analysis"
   ]
  },
  {
   "cell_type": "code",
   "execution_count": null,
   "metadata": {},
   "outputs": [],
   "source": [
    "!qiime phylogeny align-to-tree-mafft-fasttree \\\n",
    "  --i-sequences Data/combo_rep-seqs.qza \\\n",
    "  --p-n-threads 4 \\\n",
    "  --o-alignment Data/aligned-rep-seqs.qza \\\n",
    "  --o-masked-alignment Data/masked-aligned-rep-seqs.qza \\\n",
    "  --p-parttree \\\n",
    "  --o-tree Data/unrooted-tree.qza \\\n",
    "  --o-rooted-tree Data/rooted-tree.qza"
   ]
  },
  {
   "cell_type": "markdown",
   "metadata": {},
   "source": [
    "# Separating table by day and body site for the analysis"
   ]
  },
  {
   "cell_type": "code",
   "execution_count": 2,
   "metadata": {},
   "outputs": [],
   "source": [
    "def filt_smpl(tabin,col,tabout):\n",
    "  !qiime feature-table filter-samples \\\n",
    "    --i-table $tabin \\\n",
    "    --m-metadata-file metadata.tsv \\\n",
    "    --p-where \"$col\" \\\n",
    "    --o-filtered-table $tabout\n",
    "\n",
    "def filt_feat(tabin,minfrq,tabout):\n",
    "  !qiime feature-table filter-features \\\n",
    "    --i-table $tabin \\\n",
    "    --p-min-frequency $minfrq \\\n",
    "    --o-filtered-table $tabout\n",
    "    \n",
    "def tabqzv(tabin,tabout):\n",
    "  !qiime feature-table summarize \\\n",
    "    --i-table $tabin \\\n",
    "    --o-visualization $tabout \\\n",
    "    --m-sample-metadata-file metadata.tsv"
   ]
  },
  {
   "cell_type": "code",
   "execution_count": 3,
   "metadata": {},
   "outputs": [
    {
     "name": "stdout",
     "output_type": "stream",
     "text": [
      "\u001b[32mSaved FeatureTable[Frequency] to: Data/Divided_tables/d0-RSP_RF-table.qza\u001b[0m\n",
      "\u001b[32mSaved FeatureTable[Frequency] to: Data/Divided_tables/d0-RSP_RF-table.qza\u001b[0m\n",
      "\u001b[32mSaved Visualization to: Data/Divided_tables/d0-RSP_RF-table.qzv\u001b[0m\n",
      "\u001b[32mSaved FeatureTable[Frequency] to: Data/Divided_tables/d7-E_FL-table.qza\u001b[0m\n",
      "\u001b[32mSaved FeatureTable[Frequency] to: Data/Divided_tables/d7-E_FL-table.qza\u001b[0m\n",
      "\u001b[32mSaved Visualization to: Data/Divided_tables/d7-E_FL-table.qzv\u001b[0m\n",
      "\u001b[32mSaved FeatureTable[Frequency] to: Data/Divided_tables/d13-E_FL_SAM_FR-table.qza\u001b[0m\n",
      "\u001b[32mSaved FeatureTable[Frequency] to: Data/Divided_tables/d13-E_FL_SAM_FR-table.qza\u001b[0m\n",
      "\u001b[32mSaved Visualization to: Data/Divided_tables/d13-E_FL_SAM_FR-table.qzv\u001b[0m\n",
      "\u001b[32mSaved FeatureTable[Frequency] to: Data/Divided_tables/d7_d13-E_FL-table.qza\u001b[0m\n",
      "\u001b[32mSaved FeatureTable[Frequency] to: Data/Divided_tables/d7_d13-E_FL-table.qza\u001b[0m\n",
      "\u001b[32mSaved Visualization to: Data/Divided_tables/d7_d13-E_FL-table.qzv\u001b[0m\n"
     ]
    }
   ],
   "source": [
    "# divide by days \n",
    "tabdir = 'Data/Divided_tables'\n",
    "\n",
    "for t in ['d0-RSP_RF','d7-E_FL','d13-E_FL_SAM_FR', 'd7_d13-E_FL']:\n",
    "  day = \"[Day]='%s'\" % t.split('-')[0]\n",
    "  tab = tabdir+'/%s-table.qza' % t\n",
    "  tav = tabdir+'/%s-table.qzv' % t\n",
    "  if t == 'd7_d13-E_FL':\n",
    "    day = \"[Day] IN ('d7','d13') AND NOT [BS] IN ('SAM','FR')\"\n",
    "  filt_smpl(tabdir+'/full-table.qza',day,tab)\n",
    "  filt_feat(tab,5,tab)\n",
    "  tabqzv(tab,tav)"
   ]
  },
  {
   "cell_type": "markdown",
   "metadata": {},
   "source": [
    "### List of all tables produced"
   ]
  },
  {
   "cell_type": "code",
   "execution_count": 4,
   "metadata": {},
   "outputs": [],
   "source": [
    "tabdir = 'Data/Divided_tables'\n",
    "tables = ['d0-RSP_RF','d7-E_FL','d13-E_FL_SAM_FR','d7_d13-E_FL','full']"
   ]
  },
  {
   "cell_type": "markdown",
   "metadata": {},
   "source": [
    "# Taxabarplots"
   ]
  },
  {
   "cell_type": "markdown",
   "metadata": {},
   "source": [
    "### By samples"
   ]
  },
  {
   "cell_type": "code",
   "execution_count": 5,
   "metadata": {},
   "outputs": [
    {
     "name": "stdout",
     "output_type": "stream",
     "text": [
      "\u001b[32mSaved Visualization to: Results/Taxa_barplots/By_samples/d0-RSP_RF-taxabarplot.qzv\u001b[0m\n",
      "\u001b[32mSaved Visualization to: Results/Taxa_barplots/By_samples/d7-E_FL-taxabarplot.qzv\u001b[0m\n",
      "\u001b[32mSaved Visualization to: Results/Taxa_barplots/By_samples/d13-E_FL_SAM_FR-taxabarplot.qzv\u001b[0m\n",
      "\u001b[32mSaved Visualization to: Results/Taxa_barplots/By_samples/d7_d13-E_FL-taxabarplot.qzv\u001b[0m\n",
      "\u001b[32mSaved Visualization to: Results/Taxa_barplots/By_samples/full-taxabarplot.qzv\u001b[0m\n"
     ]
    }
   ],
   "source": [
    "!mkdir -p Results/Taxa_barplots/By_samples\n",
    "tabdir = 'Data/Divided_tables'\n",
    "tables = ['d0-RSP_RF','d7-E_FL','d13-E_FL_SAM_FR','d7_d13-E_FL','full']\n",
    "for tab in tables:\n",
    "  table = tabdir+'/%s-table.qza' % tab\n",
    "  out = 'Results/Taxa_barplots/By_samples/%s-taxabarplot.qzv' % tab\n",
    "  \n",
    "  !qiime taxa barplot \\\n",
    "    --i-table $table \\\n",
    "    --i-taxonomy Data/combo_taxonomy.qza \\\n",
    "    --m-metadata-file metadata.tsv \\\n",
    "    --o-visualization $out"
   ]
  },
  {
   "cell_type": "markdown",
   "metadata": {},
   "source": [
    "### By groups"
   ]
  },
  {
   "cell_type": "code",
   "execution_count": 6,
   "metadata": {
    "tags": []
   },
   "outputs": [
    {
     "name": "stdout",
     "output_type": "stream",
     "text": [
      "\u001b[32mSaved FeatureTable[Frequency] to: Data/Grouped_tables/d0-RSP_RF-BS_Trt-group_table.qza\u001b[0m\n",
      "\u001b[32mSaved Visualization to: Results/Taxa_barplots/By_groups/d0-RSP_RF-BS_Trt-taxabarplot.qzv\u001b[0m\n",
      "\u001b[32mSaved FeatureTable[Frequency] to: Data/Grouped_tables/d0-RSP_RF-BS_Src-group_table.qza\u001b[0m\n",
      "\u001b[32mSaved Visualization to: Results/Taxa_barplots/By_groups/d0-RSP_RF-BS_Src-taxabarplot.qzv\u001b[0m\n",
      "\u001b[32mSaved FeatureTable[Frequency] to: Data/Grouped_tables/d0-RSP_RF-BS_Dh-group_table.qza\u001b[0m\n",
      "\u001b[32mSaved Visualization to: Results/Taxa_barplots/By_groups/d0-RSP_RF-BS_Dh-taxabarplot.qzv\u001b[0m\n",
      "\u001b[32mSaved FeatureTable[Frequency] to: Data/Grouped_tables/d0-RSP_RF-BS_Dh_Src-group_table.qza\u001b[0m\n",
      "\u001b[32mSaved Visualization to: Results/Taxa_barplots/By_groups/d0-RSP_RF-BS_Dh_Src-taxabarplot.qzv\u001b[0m\n",
      "\u001b[32mSaved FeatureTable[Frequency] to: Data/Grouped_tables/d0-RSP_RF-BS_Dh_Trt-group_table.qza\u001b[0m\n",
      "\u001b[32mSaved Visualization to: Results/Taxa_barplots/By_groups/d0-RSP_RF-BS_Dh_Trt-taxabarplot.qzv\u001b[0m\n",
      "\u001b[32mSaved FeatureTable[Frequency] to: Data/Grouped_tables/d0-RSP_RF-BS_Day_Trt-group_table.qza\u001b[0m\n",
      "\u001b[32mSaved Visualization to: Results/Taxa_barplots/By_groups/d0-RSP_RF-BS_Day_Trt-taxabarplot.qzv\u001b[0m\n",
      "\u001b[32mSaved FeatureTable[Frequency] to: Data/Grouped_tables/d0-RSP_RF-BS_Day_Src-group_table.qza\u001b[0m\n",
      "\u001b[32mSaved Visualization to: Results/Taxa_barplots/By_groups/d0-RSP_RF-BS_Day_Src-taxabarplot.qzv\u001b[0m\n",
      "\u001b[32mSaved FeatureTable[Frequency] to: Data/Grouped_tables/d7-E_FL-BS_Trt-group_table.qza\u001b[0m\n",
      "\u001b[32mSaved Visualization to: Results/Taxa_barplots/By_groups/d7-E_FL-BS_Trt-taxabarplot.qzv\u001b[0m\n",
      "\u001b[32mSaved FeatureTable[Frequency] to: Data/Grouped_tables/d7-E_FL-BS_Src-group_table.qza\u001b[0m\n",
      "\u001b[32mSaved Visualization to: Results/Taxa_barplots/By_groups/d7-E_FL-BS_Src-taxabarplot.qzv\u001b[0m\n",
      "\u001b[32mSaved FeatureTable[Frequency] to: Data/Grouped_tables/d7-E_FL-BS_Dh-group_table.qza\u001b[0m\n",
      "\u001b[32mSaved Visualization to: Results/Taxa_barplots/By_groups/d7-E_FL-BS_Dh-taxabarplot.qzv\u001b[0m\n",
      "\u001b[32mSaved FeatureTable[Frequency] to: Data/Grouped_tables/d7-E_FL-BS_Dh_Src-group_table.qza\u001b[0m\n",
      "\u001b[32mSaved Visualization to: Results/Taxa_barplots/By_groups/d7-E_FL-BS_Dh_Src-taxabarplot.qzv\u001b[0m\n",
      "\u001b[32mSaved FeatureTable[Frequency] to: Data/Grouped_tables/d7-E_FL-BS_Dh_Trt-group_table.qza\u001b[0m\n",
      "\u001b[32mSaved Visualization to: Results/Taxa_barplots/By_groups/d7-E_FL-BS_Dh_Trt-taxabarplot.qzv\u001b[0m\n",
      "\u001b[32mSaved FeatureTable[Frequency] to: Data/Grouped_tables/d7-E_FL-BS_Day_Trt-group_table.qza\u001b[0m\n",
      "\u001b[32mSaved Visualization to: Results/Taxa_barplots/By_groups/d7-E_FL-BS_Day_Trt-taxabarplot.qzv\u001b[0m\n",
      "\u001b[32mSaved FeatureTable[Frequency] to: Data/Grouped_tables/d7-E_FL-BS_Day_Src-group_table.qza\u001b[0m\n",
      "\u001b[32mSaved Visualization to: Results/Taxa_barplots/By_groups/d7-E_FL-BS_Day_Src-taxabarplot.qzv\u001b[0m\n",
      "\u001b[32mSaved FeatureTable[Frequency] to: Data/Grouped_tables/d13-E_FL_SAM_FR-BS_Trt-group_table.qza\u001b[0m\n",
      "\u001b[32mSaved Visualization to: Results/Taxa_barplots/By_groups/d13-E_FL_SAM_FR-BS_Trt-taxabarplot.qzv\u001b[0m\n",
      "\u001b[32mSaved FeatureTable[Frequency] to: Data/Grouped_tables/d13-E_FL_SAM_FR-BS_Src-group_table.qza\u001b[0m\n",
      "\u001b[32mSaved Visualization to: Results/Taxa_barplots/By_groups/d13-E_FL_SAM_FR-BS_Src-taxabarplot.qzv\u001b[0m\n",
      "\u001b[32mSaved FeatureTable[Frequency] to: Data/Grouped_tables/d13-E_FL_SAM_FR-BS_Dh-group_table.qza\u001b[0m\n",
      "\u001b[32mSaved Visualization to: Results/Taxa_barplots/By_groups/d13-E_FL_SAM_FR-BS_Dh-taxabarplot.qzv\u001b[0m\n",
      "\u001b[32mSaved FeatureTable[Frequency] to: Data/Grouped_tables/d13-E_FL_SAM_FR-BS_Dh_Src-group_table.qza\u001b[0m\n",
      "\u001b[32mSaved Visualization to: Results/Taxa_barplots/By_groups/d13-E_FL_SAM_FR-BS_Dh_Src-taxabarplot.qzv\u001b[0m\n",
      "\u001b[32mSaved FeatureTable[Frequency] to: Data/Grouped_tables/d13-E_FL_SAM_FR-BS_Dh_Trt-group_table.qza\u001b[0m\n",
      "\u001b[32mSaved Visualization to: Results/Taxa_barplots/By_groups/d13-E_FL_SAM_FR-BS_Dh_Trt-taxabarplot.qzv\u001b[0m\n",
      "\u001b[32mSaved FeatureTable[Frequency] to: Data/Grouped_tables/d13-E_FL_SAM_FR-BS_Day_Trt-group_table.qza\u001b[0m\n",
      "\u001b[32mSaved Visualization to: Results/Taxa_barplots/By_groups/d13-E_FL_SAM_FR-BS_Day_Trt-taxabarplot.qzv\u001b[0m\n",
      "\u001b[32mSaved FeatureTable[Frequency] to: Data/Grouped_tables/d13-E_FL_SAM_FR-BS_Day_Src-group_table.qza\u001b[0m\n",
      "\u001b[32mSaved Visualization to: Results/Taxa_barplots/By_groups/d13-E_FL_SAM_FR-BS_Day_Src-taxabarplot.qzv\u001b[0m\n",
      "\u001b[32mSaved FeatureTable[Frequency] to: Data/Grouped_tables/d7_d13-E_FL-BS_Trt-group_table.qza\u001b[0m\n",
      "\u001b[32mSaved Visualization to: Results/Taxa_barplots/By_groups/d7_d13-E_FL-BS_Trt-taxabarplot.qzv\u001b[0m\n",
      "\u001b[32mSaved FeatureTable[Frequency] to: Data/Grouped_tables/d7_d13-E_FL-BS_Src-group_table.qza\u001b[0m\n",
      "\u001b[32mSaved Visualization to: Results/Taxa_barplots/By_groups/d7_d13-E_FL-BS_Src-taxabarplot.qzv\u001b[0m\n",
      "\u001b[32mSaved FeatureTable[Frequency] to: Data/Grouped_tables/d7_d13-E_FL-BS_Dh-group_table.qza\u001b[0m\n",
      "\u001b[32mSaved Visualization to: Results/Taxa_barplots/By_groups/d7_d13-E_FL-BS_Dh-taxabarplot.qzv\u001b[0m\n",
      "\u001b[32mSaved FeatureTable[Frequency] to: Data/Grouped_tables/d7_d13-E_FL-BS_Dh_Src-group_table.qza\u001b[0m\n",
      "\u001b[32mSaved Visualization to: Results/Taxa_barplots/By_groups/d7_d13-E_FL-BS_Dh_Src-taxabarplot.qzv\u001b[0m\n",
      "\u001b[32mSaved FeatureTable[Frequency] to: Data/Grouped_tables/d7_d13-E_FL-BS_Dh_Trt-group_table.qza\u001b[0m\n",
      "\u001b[32mSaved Visualization to: Results/Taxa_barplots/By_groups/d7_d13-E_FL-BS_Dh_Trt-taxabarplot.qzv\u001b[0m\n",
      "\u001b[32mSaved FeatureTable[Frequency] to: Data/Grouped_tables/d7_d13-E_FL-BS_Day_Trt-group_table.qza\u001b[0m\n",
      "\u001b[32mSaved Visualization to: Results/Taxa_barplots/By_groups/d7_d13-E_FL-BS_Day_Trt-taxabarplot.qzv\u001b[0m\n",
      "\u001b[32mSaved FeatureTable[Frequency] to: Data/Grouped_tables/d7_d13-E_FL-BS_Day_Src-group_table.qza\u001b[0m\n",
      "\u001b[32mSaved Visualization to: Results/Taxa_barplots/By_groups/d7_d13-E_FL-BS_Day_Src-taxabarplot.qzv\u001b[0m\n",
      "\u001b[32mSaved FeatureTable[Frequency] to: Data/Grouped_tables/full-BS_Trt-group_table.qza\u001b[0m\n",
      "\u001b[32mSaved Visualization to: Results/Taxa_barplots/By_groups/full-BS_Trt-taxabarplot.qzv\u001b[0m\n",
      "\u001b[32mSaved FeatureTable[Frequency] to: Data/Grouped_tables/full-BS_Src-group_table.qza\u001b[0m\n",
      "\u001b[32mSaved Visualization to: Results/Taxa_barplots/By_groups/full-BS_Src-taxabarplot.qzv\u001b[0m\n",
      "\u001b[32mSaved FeatureTable[Frequency] to: Data/Grouped_tables/full-BS_Dh-group_table.qza\u001b[0m\n",
      "\u001b[32mSaved Visualization to: Results/Taxa_barplots/By_groups/full-BS_Dh-taxabarplot.qzv\u001b[0m\n",
      "\u001b[32mSaved FeatureTable[Frequency] to: Data/Grouped_tables/full-BS_Dh_Src-group_table.qza\u001b[0m\n",
      "\u001b[32mSaved Visualization to: Results/Taxa_barplots/By_groups/full-BS_Dh_Src-taxabarplot.qzv\u001b[0m\n",
      "\u001b[32mSaved FeatureTable[Frequency] to: Data/Grouped_tables/full-BS_Dh_Trt-group_table.qza\u001b[0m\n",
      "\u001b[32mSaved Visualization to: Results/Taxa_barplots/By_groups/full-BS_Dh_Trt-taxabarplot.qzv\u001b[0m\n",
      "\u001b[32mSaved FeatureTable[Frequency] to: Data/Grouped_tables/full-BS_Day_Trt-group_table.qza\u001b[0m\n",
      "\u001b[32mSaved Visualization to: Results/Taxa_barplots/By_groups/full-BS_Day_Trt-taxabarplot.qzv\u001b[0m\n",
      "\u001b[32mSaved FeatureTable[Frequency] to: Data/Grouped_tables/full-BS_Day_Src-group_table.qza\u001b[0m\n",
      "\u001b[32mSaved Visualization to: Results/Taxa_barplots/By_groups/full-BS_Day_Src-taxabarplot.qzv\u001b[0m\n"
     ]
    }
   ],
   "source": [
    "import pandas as pd\n",
    "\n",
    "tables = ['d0-RSP_RF','d7-E_FL','d13-E_FL_SAM_FR','d7_d13-E_FL','full']\n",
    "tabdir = 'Data/Divided_tables'\n",
    "outres = 'Results/Taxa_barplots/By_groups'\n",
    "outdat = 'Data/Grouped_tables'\n",
    "met = pd.read_csv('metadata.tsv',sep='\\t',index_col=0)\n",
    "\n",
    "groups = ['BS_Trt','BS_Src','BS_Dh','BS_Dh_Src','BS_Dh_Trt','BS_Day_Trt','BS_Day_Src']\n",
    "\n",
    "for tab in tables:\n",
    "  tabin = tabdir+'/%s-table.qza' % tab\n",
    "  \n",
    "  !mkdir -p $outres $outdat\n",
    "  for group in groups:\n",
    "  #Collapse metadata\n",
    "    meta = met.drop_duplicates(subset=group).copy()\n",
    "    meta.index = meta[group]\n",
    "    meta.index.name = '#SampleID'\n",
    "    meta.to_csv(outdat+'/%s-%s-metadata.tsv'%(tab,group),sep='\\t')\n",
    "  #Variables    \n",
    "    grouped = outdat + '/%s-%s-group_table.qza' % (tab,group)\n",
    "    taxabar = outres + '/%s-%s-taxabarplot.qzv' % (tab,group)\n",
    "    metadata= outdat + '/%s-%s-metadata.tsv'    % (tab,group)\n",
    "    \n",
    "    try:\n",
    "    #Group tables    \n",
    "      !qiime feature-table group \\\n",
    "        --i-table $tabin \\\n",
    "        --p-axis 'sample' \\\n",
    "        --m-metadata-file metadata.tsv \\\n",
    "        --m-metadata-column $group \\\n",
    "        --p-mode 'mean-ceiling' \\\n",
    "        --o-grouped-table $grouped\n",
    "    #Taxabarplots    \n",
    "      !qiime taxa barplot \\\n",
    "        --i-table $grouped \\\n",
    "        --i-taxonomy Data/combo_taxonomy.qza \\\n",
    "        --m-metadata-file $metadata \\\n",
    "        --o-visualization $taxabar\n",
    "    except:\n",
    "      print('Looks like there is no %s group in table %s' % (group, tabin))"
   ]
  },
  {
   "cell_type": "markdown",
   "metadata": {},
   "source": [
    "# Alpha and beta diversity analysis"
   ]
  },
  {
   "cell_type": "markdown",
   "metadata": {},
   "source": [
    "### Alpha rarefaction plotting"
   ]
  },
  {
   "cell_type": "code",
   "execution_count": 11,
   "metadata": {},
   "outputs": [
    {
     "name": "stdout",
     "output_type": "stream",
     "text": [
      "\u001b[32mSaved Visualization to: Results/Alpha_rarefaction.qzv\u001b[0m\n"
     ]
    }
   ],
   "source": [
    "!qiime diversity alpha-rarefaction \\\n",
    "  --i-table Data/Divided_tables/full-table.qza \\\n",
    "  --i-phylogeny Data/rooted-tree.qza \\\n",
    "  --p-max-depth 50000 \\\n",
    "  --m-metadata-file metadata.tsv \\\n",
    "  --o-visualization Results/Alpha_rarefaction.qzv"
   ]
  },
  {
   "cell_type": "markdown",
   "metadata": {},
   "source": [
    "### Core-metrics-phylogenetic: Core diversity metrics (phylogenetic and non-phylogenetic)"
   ]
  },
  {
   "cell_type": "code",
   "execution_count": 12,
   "metadata": {},
   "outputs": [
    {
     "name": "stdout",
     "output_type": "stream",
     "text": [
      "\u001b[32mSaved FeatureTable[Frequency] to: Results/Core-metrics/rarefied_table.qza\u001b[0m\n",
      "\u001b[32mSaved SampleData[AlphaDiversity] to: Results/Core-metrics/faith_pd_vector.qza\u001b[0m\n",
      "\u001b[32mSaved SampleData[AlphaDiversity] to: Results/Core-metrics/observed_features_vector.qza\u001b[0m\n",
      "\u001b[32mSaved SampleData[AlphaDiversity] to: Results/Core-metrics/shannon_vector.qza\u001b[0m\n",
      "\u001b[32mSaved SampleData[AlphaDiversity] to: Results/Core-metrics/evenness_vector.qza\u001b[0m\n",
      "\u001b[32mSaved DistanceMatrix to: Results/Core-metrics/unweighted_unifrac_distance_matrix.qza\u001b[0m\n",
      "\u001b[32mSaved DistanceMatrix to: Results/Core-metrics/weighted_unifrac_distance_matrix.qza\u001b[0m\n",
      "\u001b[32mSaved DistanceMatrix to: Results/Core-metrics/jaccard_distance_matrix.qza\u001b[0m\n",
      "\u001b[32mSaved DistanceMatrix to: Results/Core-metrics/bray_curtis_distance_matrix.qza\u001b[0m\n",
      "\u001b[32mSaved PCoAResults to: Results/Core-metrics/unweighted_unifrac_pcoa_results.qza\u001b[0m\n",
      "\u001b[32mSaved PCoAResults to: Results/Core-metrics/weighted_unifrac_pcoa_results.qza\u001b[0m\n",
      "\u001b[32mSaved PCoAResults to: Results/Core-metrics/jaccard_pcoa_results.qza\u001b[0m\n",
      "\u001b[32mSaved PCoAResults to: Results/Core-metrics/bray_curtis_pcoa_results.qza\u001b[0m\n",
      "\u001b[32mSaved Visualization to: Results/Core-metrics/unweighted_unifrac_emperor.qzv\u001b[0m\n",
      "\u001b[32mSaved Visualization to: Results/Core-metrics/weighted_unifrac_emperor.qzv\u001b[0m\n",
      "\u001b[32mSaved Visualization to: Results/Core-metrics/jaccard_emperor.qzv\u001b[0m\n",
      "\u001b[32mSaved Visualization to: Results/Core-metrics/bray_curtis_emperor.qzv\u001b[0m\n"
     ]
    }
   ],
   "source": [
    "!qiime diversity core-metrics-phylogenetic \\\n",
    "  --i-phylogeny Data/rooted-tree.qza \\\n",
    "  --i-table Data/Divided_tables/full-table.qza \\\n",
    "  --p-sampling-depth 12223 \\\n",
    "  --m-metadata-file metadata.tsv \\\n",
    "  --p-n-jobs-or-threads 'auto' \\\n",
    "  --output-dir Results/Core-metrics"
   ]
  },
  {
   "cell_type": "markdown",
   "metadata": {},
   "source": [
    "### Principal Coordinate Analysis Biplot"
   ]
  },
  {
   "cell_type": "code",
   "execution_count": 13,
   "metadata": {},
   "outputs": [
    {
     "name": "stdout",
     "output_type": "stream",
     "text": [
      "\u001b[32mSaved FeatureTable[RelativeFrequency] to: Data/Relative_tables/full-relative_table.qza\u001b[0m\n",
      "\u001b[32mSaved PCoAResults % Properties('biplot') to: Results/Biplots/Biplots_full/unweighted_unifrac_biplot.qza\u001b[0m\n",
      "\u001b[32mSaved Visualization to: Results/Biplots/Biplots_full/unweighted_unifrac_biplot.qzv\u001b[0m\n",
      "\u001b[32mSaved PCoAResults % Properties('biplot') to: Results/Biplots/Biplots_full/weighted_unifrac_biplot.qza\u001b[0m\n",
      "\u001b[32mSaved Visualization to: Results/Biplots/Biplots_full/weighted_unifrac_biplot.qzv\u001b[0m\n",
      "\u001b[32mSaved PCoAResults % Properties('biplot') to: Results/Biplots/Biplots_full/jaccard_biplot.qza\u001b[0m\n",
      "\u001b[32mSaved Visualization to: Results/Biplots/Biplots_full/jaccard_biplot.qzv\u001b[0m\n",
      "\u001b[32mSaved PCoAResults % Properties('biplot') to: Results/Biplots/Biplots_full/bray_curtis_biplot.qza\u001b[0m\n",
      "\u001b[32mSaved Visualization to: Results/Biplots/Biplots_full/bray_curtis_biplot.qzv\u001b[0m\n"
     ]
    }
   ],
   "source": [
    "table = 'Data/Divided_tables/full-table.qza'\n",
    "reltab = 'Data/Relative_tables/full-relative_table.qza'\n",
    "  \n",
    "  # Converting feature table [Frequency] to [Relative frequency]\n",
    "!mkdir Data/Relative_tables\n",
    "!qiime feature-table relative-frequency \\\n",
    "  --i-table Data/Divided_tables/full-table.qza \\\n",
    "  --o-relative-frequency-table $reltab\n",
    "\n",
    "for artifact in ['unweighted_unifrac', 'weighted_unifrac', 'jaccard', 'bray_curtis']:\n",
    "  pcoa  = 'Results/Core-metrics/%s_pcoa_results.qza' % artifact\n",
    "  bidir = 'Results/Biplots/Biplots_full'\n",
    "  biplot= bidir+'/%s_biplot.qza' % artifact\n",
    "  bi_qzv= bidir+'/%s_biplot.qzv' % artifact\n",
    "\n",
    "  !mkdir -p $bidir\n",
    "    \n",
    "  # pcoa-biplot: Principal Coordinate Analysis Biplot     \n",
    "  !qiime diversity pcoa-biplot \\\n",
    "    --i-pcoa $pcoa \\\n",
    "    --i-features $reltab \\\n",
    "    --o-biplot $biplot\n",
    "\n",
    "  !qiime emperor biplot \\\n",
    "    --i-biplot $biplot \\\n",
    "    --m-sample-metadata-file metadata.tsv \\\n",
    "    --p-ignore-missing-samples \\\n",
    "    --p-number-of-features 5 \\\n",
    "    --o-visualization $bi_qzv"
   ]
  },
  {
   "cell_type": "markdown",
   "metadata": {},
   "source": [
    "# ANCOM"
   ]
  },
  {
   "cell_type": "code",
   "execution_count": 7,
   "metadata": {},
   "outputs": [],
   "source": [
    "!mkdir Results/ANCOM\n",
    "def Ancom(column, ancom):\n",
    "  ctable = 'Results/ANCOM/ctable.qza'\n",
    "  !qiime composition add-pseudocount \\\n",
    "    --i-table Results/ANCOM/table.qza \\\n",
    "    --o-composition-table $ctable\n",
    "  !qiime composition ancom \\\n",
    "    --i-table $ctable \\\n",
    "    --m-metadata-file metadata.tsv \\\n",
    "    --m-metadata-column $column \\\n",
    "    --o-visualization $ancom\n",
    "  !rm $ctable\n",
    "    \n",
    "def Ancol(lev, column, ancol):\n",
    "  ctable = 'Results/ANCOM/ctable.qza'\n",
    "  ltable = 'Results/ANCOM/ltable.qza'\n",
    "  !qiime taxa collapse \\\n",
    "    --i-table Results/ANCOM/table.qza \\\n",
    "    --i-taxonomy Data/combo_taxonomy.qza \\\n",
    "    --p-level $lev \\\n",
    "    --o-collapsed-table $ltable\n",
    "  !qiime composition add-pseudocount \\\n",
    "    --i-table $ltable \\\n",
    "    --o-composition-table $ctable\n",
    "  !qiime composition ancom \\\n",
    "    --i-table $ctable \\\n",
    "    --m-metadata-file metadata.tsv \\\n",
    "    --m-metadata-column $column \\\n",
    "    --o-visualization $ancol\n",
    "  !rm $ctable $ltable \n",
    "  \n",
    "def filter_table(df):\n",
    "  df.index.names = ['SampleID']\n",
    "  df.to_csv('Results/ANCOM/table.tsv',sep='\\t')\n",
    "  !qiime feature-table filter-samples \\\n",
    "    --i-table Data/Divided_tables/full-table.qza \\\n",
    "    --m-metadata-file Results/ANCOM/table.tsv \\\n",
    "    --o-filtered-table Results/ANCOM/table.qza\n",
    "  !rm Results/ANCOM/table.tsv\n"
   ]
  },
  {
   "cell_type": "code",
   "execution_count": 8,
   "metadata": {},
   "outputs": [
    {
     "name": "stdout",
     "output_type": "stream",
     "text": [
      "\u001b[32mSaved FeatureTable[Frequency] to: Results/ANCOM/table.qza\u001b[0m\n",
      "\u001b[32mSaved FeatureTable[Composition] to: Results/ANCOM/ctable.qza\u001b[0m\n",
      "\u001b[32mSaved Visualization to: Results/ANCOM/d7_E_BS_Trt_ancom.qzv\u001b[0m\n",
      "\u001b[32mSaved FeatureTable[Frequency] to: Results/ANCOM/ltable.qza\u001b[0m\n",
      "\u001b[32mSaved FeatureTable[Composition] to: Results/ANCOM/ctable.qza\u001b[0m\n",
      "\u001b[32mSaved Visualization to: Results/ANCOM/d7_E_BS_Trt_ancom_6.qzv\u001b[0m\n",
      "\u001b[32mSaved FeatureTable[Frequency] to: Results/ANCOM/ltable.qza\u001b[0m\n",
      "\u001b[32mSaved FeatureTable[Composition] to: Results/ANCOM/ctable.qza\u001b[0m\n",
      "\u001b[32mSaved Visualization to: Results/ANCOM/d7_E_BS_Trt_ancom_7.qzv\u001b[0m\n",
      "\u001b[32mSaved FeatureTable[Composition] to: Results/ANCOM/ctable.qza\u001b[0m\n",
      "\u001b[32mSaved Visualization to: Results/ANCOM/d7_E_BS_Src_ancom.qzv\u001b[0m\n",
      "\u001b[32mSaved FeatureTable[Frequency] to: Results/ANCOM/ltable.qza\u001b[0m\n",
      "\u001b[32mSaved FeatureTable[Composition] to: Results/ANCOM/ctable.qza\u001b[0m\n",
      "\u001b[32mSaved Visualization to: Results/ANCOM/d7_E_BS_Src_ancom_6.qzv\u001b[0m\n",
      "\u001b[32mSaved FeatureTable[Frequency] to: Results/ANCOM/ltable.qza\u001b[0m\n",
      "\u001b[32mSaved FeatureTable[Composition] to: Results/ANCOM/ctable.qza\u001b[0m\n",
      "\u001b[32mSaved Visualization to: Results/ANCOM/d7_E_BS_Src_ancom_7.qzv\u001b[0m\n",
      "\u001b[32mSaved FeatureTable[Frequency] to: Results/ANCOM/table.qza\u001b[0m\n",
      "\u001b[32mSaved FeatureTable[Composition] to: Results/ANCOM/ctable.qza\u001b[0m\n",
      "\u001b[32mSaved Visualization to: Results/ANCOM/d7_FL_BS_Trt_ancom.qzv\u001b[0m\n",
      "\u001b[32mSaved FeatureTable[Frequency] to: Results/ANCOM/ltable.qza\u001b[0m\n",
      "\u001b[32mSaved FeatureTable[Composition] to: Results/ANCOM/ctable.qza\u001b[0m\n",
      "\u001b[32mSaved Visualization to: Results/ANCOM/d7_FL_BS_Trt_ancom_6.qzv\u001b[0m\n",
      "\u001b[32mSaved FeatureTable[Frequency] to: Results/ANCOM/ltable.qza\u001b[0m\n",
      "\u001b[32mSaved FeatureTable[Composition] to: Results/ANCOM/ctable.qza\u001b[0m\n",
      "\u001b[32mSaved Visualization to: Results/ANCOM/d7_FL_BS_Trt_ancom_7.qzv\u001b[0m\n",
      "\u001b[32mSaved FeatureTable[Composition] to: Results/ANCOM/ctable.qza\u001b[0m\n",
      "\u001b[32mSaved Visualization to: Results/ANCOM/d7_FL_BS_Src_ancom.qzv\u001b[0m\n",
      "\u001b[32mSaved FeatureTable[Frequency] to: Results/ANCOM/ltable.qza\u001b[0m\n",
      "\u001b[32mSaved FeatureTable[Composition] to: Results/ANCOM/ctable.qza\u001b[0m\n",
      "\u001b[32mSaved Visualization to: Results/ANCOM/d7_FL_BS_Src_ancom_6.qzv\u001b[0m\n",
      "\u001b[32mSaved FeatureTable[Frequency] to: Results/ANCOM/ltable.qza\u001b[0m\n",
      "\u001b[32mSaved FeatureTable[Composition] to: Results/ANCOM/ctable.qza\u001b[0m\n",
      "\u001b[32mSaved Visualization to: Results/ANCOM/d7_FL_BS_Src_ancom_7.qzv\u001b[0m\n",
      "\u001b[32mSaved FeatureTable[Frequency] to: Results/ANCOM/table.qza\u001b[0m\n",
      "\u001b[32mSaved FeatureTable[Composition] to: Results/ANCOM/ctable.qza\u001b[0m\n",
      "\u001b[32mSaved Visualization to: Results/ANCOM/d13_E_BS_Trt_ancom.qzv\u001b[0m\n",
      "\u001b[32mSaved FeatureTable[Frequency] to: Results/ANCOM/ltable.qza\u001b[0m\n",
      "\u001b[32mSaved FeatureTable[Composition] to: Results/ANCOM/ctable.qza\u001b[0m\n",
      "\u001b[32mSaved Visualization to: Results/ANCOM/d13_E_BS_Trt_ancom_6.qzv\u001b[0m\n",
      "\u001b[32mSaved FeatureTable[Frequency] to: Results/ANCOM/ltable.qza\u001b[0m\n",
      "\u001b[32mSaved FeatureTable[Composition] to: Results/ANCOM/ctable.qza\u001b[0m\n",
      "\u001b[32mSaved Visualization to: Results/ANCOM/d13_E_BS_Trt_ancom_7.qzv\u001b[0m\n",
      "\u001b[32mSaved FeatureTable[Composition] to: Results/ANCOM/ctable.qza\u001b[0m\n",
      "\u001b[32mSaved Visualization to: Results/ANCOM/d13_E_BS_Src_ancom.qzv\u001b[0m\n",
      "\u001b[32mSaved FeatureTable[Frequency] to: Results/ANCOM/ltable.qza\u001b[0m\n",
      "\u001b[32mSaved FeatureTable[Composition] to: Results/ANCOM/ctable.qza\u001b[0m\n",
      "\u001b[32mSaved Visualization to: Results/ANCOM/d13_E_BS_Src_ancom_6.qzv\u001b[0m\n",
      "\u001b[32mSaved FeatureTable[Frequency] to: Results/ANCOM/ltable.qza\u001b[0m\n",
      "\u001b[32mSaved FeatureTable[Composition] to: Results/ANCOM/ctable.qza\u001b[0m\n",
      "\u001b[32mSaved Visualization to: Results/ANCOM/d13_E_BS_Src_ancom_7.qzv\u001b[0m\n",
      "\u001b[32mSaved FeatureTable[Frequency] to: Results/ANCOM/table.qza\u001b[0m\n",
      "\u001b[32mSaved FeatureTable[Composition] to: Results/ANCOM/ctable.qza\u001b[0m\n",
      "\u001b[32mSaved Visualization to: Results/ANCOM/d13_FL_BS_Trt_ancom.qzv\u001b[0m\n",
      "\u001b[32mSaved FeatureTable[Frequency] to: Results/ANCOM/ltable.qza\u001b[0m\n",
      "\u001b[32mSaved FeatureTable[Composition] to: Results/ANCOM/ctable.qza\u001b[0m\n",
      "\u001b[32mSaved Visualization to: Results/ANCOM/d13_FL_BS_Trt_ancom_6.qzv\u001b[0m\n",
      "\u001b[32mSaved FeatureTable[Frequency] to: Results/ANCOM/ltable.qza\u001b[0m\n",
      "\u001b[32mSaved FeatureTable[Composition] to: Results/ANCOM/ctable.qza\u001b[0m\n",
      "\u001b[32mSaved Visualization to: Results/ANCOM/d13_FL_BS_Trt_ancom_7.qzv\u001b[0m\n",
      "\u001b[32mSaved FeatureTable[Composition] to: Results/ANCOM/ctable.qza\u001b[0m\n",
      "\u001b[32mSaved Visualization to: Results/ANCOM/d13_FL_BS_Src_ancom.qzv\u001b[0m\n",
      "\u001b[32mSaved FeatureTable[Frequency] to: Results/ANCOM/ltable.qza\u001b[0m\n",
      "\u001b[32mSaved FeatureTable[Composition] to: Results/ANCOM/ctable.qza\u001b[0m\n",
      "\u001b[32mSaved Visualization to: Results/ANCOM/d13_FL_BS_Src_ancom_6.qzv\u001b[0m\n",
      "\u001b[32mSaved FeatureTable[Frequency] to: Results/ANCOM/ltable.qza\u001b[0m\n",
      "\u001b[32mSaved FeatureTable[Composition] to: Results/ANCOM/ctable.qza\u001b[0m\n",
      "\u001b[32mSaved Visualization to: Results/ANCOM/d13_FL_BS_Src_ancom_7.qzv\u001b[0m\n",
      "\u001b[32mSaved FeatureTable[Frequency] to: Results/ANCOM/table.qza\u001b[0m\n",
      "\u001b[32mSaved FeatureTable[Composition] to: Results/ANCOM/ctable.qza\u001b[0m\n",
      "\u001b[32mSaved Visualization to: Results/ANCOM/d13_SAM_BS_Trt_ancom.qzv\u001b[0m\n",
      "\u001b[32mSaved FeatureTable[Frequency] to: Results/ANCOM/ltable.qza\u001b[0m\n",
      "\u001b[32mSaved FeatureTable[Composition] to: Results/ANCOM/ctable.qza\u001b[0m\n",
      "\u001b[32mSaved Visualization to: Results/ANCOM/d13_SAM_BS_Trt_ancom_6.qzv\u001b[0m\n",
      "\u001b[32mSaved FeatureTable[Frequency] to: Results/ANCOM/ltable.qza\u001b[0m\n",
      "\u001b[32mSaved FeatureTable[Composition] to: Results/ANCOM/ctable.qza\u001b[0m\n",
      "\u001b[32mSaved Visualization to: Results/ANCOM/d13_SAM_BS_Trt_ancom_7.qzv\u001b[0m\n",
      "\u001b[32mSaved FeatureTable[Composition] to: Results/ANCOM/ctable.qza\u001b[0m\n",
      "\u001b[32mSaved Visualization to: Results/ANCOM/d13_SAM_BS_Src_ancom.qzv\u001b[0m\n",
      "\u001b[32mSaved FeatureTable[Frequency] to: Results/ANCOM/ltable.qza\u001b[0m\n",
      "\u001b[32mSaved FeatureTable[Composition] to: Results/ANCOM/ctable.qza\u001b[0m\n",
      "\u001b[32mSaved Visualization to: Results/ANCOM/d13_SAM_BS_Src_ancom_6.qzv\u001b[0m\n",
      "\u001b[32mSaved FeatureTable[Frequency] to: Results/ANCOM/ltable.qza\u001b[0m\n",
      "\u001b[32mSaved FeatureTable[Composition] to: Results/ANCOM/ctable.qza\u001b[0m\n",
      "\u001b[32mSaved Visualization to: Results/ANCOM/d13_SAM_BS_Src_ancom_7.qzv\u001b[0m\n",
      "\u001b[32mSaved FeatureTable[Frequency] to: Results/ANCOM/table.qza\u001b[0m\n",
      "\u001b[32mSaved FeatureTable[Composition] to: Results/ANCOM/ctable.qza\u001b[0m\n",
      "\u001b[32mSaved Visualization to: Results/ANCOM/d13_FR_BS_Trt_ancom.qzv\u001b[0m\n",
      "\u001b[32mSaved FeatureTable[Frequency] to: Results/ANCOM/ltable.qza\u001b[0m\n",
      "\u001b[32mSaved FeatureTable[Composition] to: Results/ANCOM/ctable.qza\u001b[0m\n",
      "\u001b[32mSaved Visualization to: Results/ANCOM/d13_FR_BS_Trt_ancom_6.qzv\u001b[0m\n",
      "\u001b[32mSaved FeatureTable[Frequency] to: Results/ANCOM/ltable.qza\u001b[0m\n",
      "\u001b[32mSaved FeatureTable[Composition] to: Results/ANCOM/ctable.qza\u001b[0m\n",
      "\u001b[32mSaved Visualization to: Results/ANCOM/d13_FR_BS_Trt_ancom_7.qzv\u001b[0m\n",
      "\u001b[32mSaved FeatureTable[Composition] to: Results/ANCOM/ctable.qza\u001b[0m\n",
      "\u001b[32mSaved Visualization to: Results/ANCOM/d13_FR_BS_Src_ancom.qzv\u001b[0m\n",
      "\u001b[32mSaved FeatureTable[Frequency] to: Results/ANCOM/ltable.qza\u001b[0m\n",
      "\u001b[32mSaved FeatureTable[Composition] to: Results/ANCOM/ctable.qza\u001b[0m\n",
      "\u001b[32mSaved Visualization to: Results/ANCOM/d13_FR_BS_Src_ancom_6.qzv\u001b[0m\n",
      "\u001b[32mSaved FeatureTable[Frequency] to: Results/ANCOM/ltable.qza\u001b[0m\n",
      "\u001b[32mSaved FeatureTable[Composition] to: Results/ANCOM/ctable.qza\u001b[0m\n",
      "\u001b[32mSaved Visualization to: Results/ANCOM/d13_FR_BS_Src_ancom_7.qzv\u001b[0m\n",
      "\u001b[32mSaved FeatureTable[Composition] to: Results/ANCOM/ctable.qza\u001b[0m\n",
      "\u001b[32mSaved Visualization to: Results/ANCOM/d13_FR_BS_Dh_ancom.qzv\u001b[0m\n",
      "\u001b[32mSaved FeatureTable[Frequency] to: Results/ANCOM/ltable.qza\u001b[0m\n",
      "\u001b[32mSaved FeatureTable[Composition] to: Results/ANCOM/ctable.qza\u001b[0m\n",
      "\u001b[32mSaved Visualization to: Results/ANCOM/d13_FR_BS_Dh_ancom_6.qzv\u001b[0m\n",
      "\u001b[32mSaved FeatureTable[Frequency] to: Results/ANCOM/ltable.qza\u001b[0m\n",
      "\u001b[32mSaved FeatureTable[Composition] to: Results/ANCOM/ctable.qza\u001b[0m\n",
      "\u001b[32mSaved Visualization to: Results/ANCOM/d13_FR_BS_Dh_ancom_7.qzv\u001b[0m\n"
     ]
    }
   ],
   "source": [
    "import pandas as pd\n",
    "from os import path\n",
    "\n",
    "met = pd.read_csv('metadata.tsv',sep='\\t',index_col=0)\n",
    "\n",
    "cols = ['BS_Trt','BS_Src','BS_Dh']\n",
    "days = ['d7','d13']\n",
    "bodysites = ['E','FL','SAM','FR']\n",
    "for day in days:\n",
    "  for bs in bodysites:\n",
    "    if day=='d7' and bs in ['SAM','FR']:\n",
    "      continue\n",
    "    dftab = met.loc[(met.Day==day)&(met.BS==bs)].copy()\n",
    "    filter_table(dftab)\n",
    "    for col in cols:\n",
    "      if col=='BS_Dh' and bs!='FR':\n",
    "        continue\n",
    "        \n",
    "      ancom = 'Results/ANCOM/%s_%s_%s_ancom.qzv'%(day,bs,col)\n",
    "      Ancom(col,ancom)\n",
    "      for lev in [6,7]:\n",
    "        ancol = 'Results/ANCOM/%s_%s_%s_ancom_%s.qzv'%(day,bs,col,lev)\n",
    "        Ancol(lev,col,ancol)\n",
    "    !rm Results/ANCOM/table.qza"
   ]
  },
  {
   "cell_type": "markdown",
   "metadata": {},
   "source": [
    "# Longitudinal analysis"
   ]
  },
  {
   "cell_type": "markdown",
   "metadata": {},
   "source": [
    "### Pairwise-differences and distances"
   ]
  },
  {
   "cell_type": "code",
   "execution_count": 9,
   "metadata": {},
   "outputs": [],
   "source": [
    "import pandas as pd\n",
    "\n",
    "def df_matrix(beta,met):\n",
    "  matr = beta[beta.index.isin(met.index)].copy()\n",
    "  matr = matr[met.index]\n",
    "  matr.sort_index(inplace=True)\n",
    "  matr = matr.reindex(sorted(matr.columns),axis=1)\n",
    "  return matr\n",
    "\n",
    "def first_diff(metric,col,diff):\n",
    "  !qiime longitudinal pairwise-differences \\\n",
    "    --m-metadata-file Results/First_differences/alpha.tsv \\\n",
    "    --p-metric $metric \\\n",
    "    --p-group-column $col \\\n",
    "    --p-state-column Day \\\n",
    "    --p-state-1 d7 \\\n",
    "    --p-state-2 d13 \\\n",
    "    --p-individual-id-column IID \\\n",
    "    --p-replicate-handling random \\\n",
    "    --o-visualization $diff\n",
    "  \n",
    "def first_dist(dista,col,distv):\n",
    "  !qiime longitudinal pairwise-distances \\\n",
    "    --i-distance-matrix $dista \\\n",
    "    --m-metadata-file Results/First_differences/alpha.tsv \\\n",
    "    --p-group-column $col \\\n",
    "    --p-state-column Day \\\n",
    "    --p-state-1 d7 \\\n",
    "    --p-state-2 d13 \\\n",
    "    --p-individual-id-column IID \\\n",
    "    --p-replicate-handling random \\\n",
    "    --o-visualization $distv\n",
    "  \n",
    "def distance_matrix(matr,div,col,dista):\n",
    "  matr.to_csv('Results/First_distances/matrix.tsv',sep='\\t')\n",
    "  matr = 'Results/First_distances/matrix.tsv'\n",
    "      \n",
    "  !qiime tools import \\\n",
    "    --input-path $matr \\\n",
    "    --output-path $dista \\\n",
    "    --type DistanceMatrix\n",
    "  !rm $matr\n",
    "\n",
    "def beta_div(qza):  \n",
    "  a = !unzip $qza\n",
    "  digest = a[1].split('/')[0].replace('  inflating: ','')\n",
    "  inf = digest + '/data/distance-matrix.tsv'\n",
    "  data = pd.read_csv(inf, sep='\\t',index_col=0)\n",
    "  !rm -r $digest\n",
    "  return data "
   ]
  },
  {
   "cell_type": "code",
   "execution_count": 10,
   "metadata": {},
   "outputs": [
    {
     "ename": "FileNotFoundError",
     "evalue": "[Errno 2] No such file or directory: 'Results/Core-metrics/alpha.tsv'",
     "output_type": "error",
     "traceback": [
      "\u001b[0;31m---------------------------------------------------------------------------\u001b[0m",
      "\u001b[0;31mFileNotFoundError\u001b[0m                         Traceback (most recent call last)",
      "\u001b[0;32m<ipython-input-10-9fabd53f6afe>\u001b[0m in \u001b[0;36m<module>\u001b[0;34m\u001b[0m\n\u001b[1;32m      5\u001b[0m \u001b[0mcols\u001b[0m \u001b[0;34m=\u001b[0m \u001b[0;34m[\u001b[0m\u001b[0;34m'BS_Trt'\u001b[0m\u001b[0;34m,\u001b[0m\u001b[0;34m'BS_Src'\u001b[0m\u001b[0;34m]\u001b[0m\u001b[0;34m\u001b[0m\u001b[0;34m\u001b[0m\u001b[0m\n\u001b[1;32m      6\u001b[0m \u001b[0;34m\u001b[0m\u001b[0m\n\u001b[0;32m----> 7\u001b[0;31m \u001b[0mdf\u001b[0m \u001b[0;34m=\u001b[0m \u001b[0mpd\u001b[0m\u001b[0;34m.\u001b[0m\u001b[0mread_csv\u001b[0m\u001b[0;34m(\u001b[0m\u001b[0;34m'Results/Core-metrics/alpha.tsv'\u001b[0m\u001b[0;34m,\u001b[0m\u001b[0msep\u001b[0m\u001b[0;34m=\u001b[0m\u001b[0;34m'\\t'\u001b[0m\u001b[0;34m,\u001b[0m\u001b[0mindex_col\u001b[0m\u001b[0;34m=\u001b[0m\u001b[0;34m'#SampleID'\u001b[0m\u001b[0;34m)\u001b[0m\u001b[0;34m\u001b[0m\u001b[0;34m\u001b[0m\u001b[0m\n\u001b[0m\u001b[1;32m      8\u001b[0m \u001b[0malpha\u001b[0m \u001b[0;34m=\u001b[0m \u001b[0mdf\u001b[0m\u001b[0;34m.\u001b[0m\u001b[0mloc\u001b[0m\u001b[0;34m[\u001b[0m\u001b[0;34m(\u001b[0m\u001b[0mdf\u001b[0m\u001b[0;34m.\u001b[0m\u001b[0mDay\u001b[0m\u001b[0;34m!=\u001b[0m\u001b[0;34m'd0'\u001b[0m\u001b[0;34m)\u001b[0m\u001b[0;34m&\u001b[0m\u001b[0;34m(\u001b[0m\u001b[0mdf\u001b[0m\u001b[0;34m.\u001b[0m\u001b[0mBS\u001b[0m\u001b[0;34m!=\u001b[0m\u001b[0;34m'SAM'\u001b[0m\u001b[0;34m)\u001b[0m\u001b[0;34m&\u001b[0m\u001b[0;34m(\u001b[0m\u001b[0mdf\u001b[0m\u001b[0;34m.\u001b[0m\u001b[0mBS\u001b[0m\u001b[0;34m!=\u001b[0m\u001b[0;34m'FR'\u001b[0m\u001b[0;34m)\u001b[0m\u001b[0;34m]\u001b[0m\u001b[0;34m.\u001b[0m\u001b[0mcopy\u001b[0m\u001b[0;34m(\u001b[0m\u001b[0;34m)\u001b[0m\u001b[0;34m\u001b[0m\u001b[0;34m\u001b[0m\u001b[0m\n\u001b[1;32m      9\u001b[0m \u001b[0malpha\u001b[0m\u001b[0;34m[\u001b[0m\u001b[0;34m'IID'\u001b[0m\u001b[0;34m]\u001b[0m \u001b[0;34m=\u001b[0m \u001b[0;34m''\u001b[0m\u001b[0;34m\u001b[0m\u001b[0;34m\u001b[0m\u001b[0m\n",
      "\u001b[0;32m~/anaconda3/envs/qiime2-2021.2/lib/python3.6/site-packages/pandas/io/parsers.py\u001b[0m in \u001b[0;36mread_csv\u001b[0;34m(filepath_or_buffer, sep, delimiter, header, names, index_col, usecols, squeeze, prefix, mangle_dupe_cols, dtype, engine, converters, true_values, false_values, skipinitialspace, skiprows, skipfooter, nrows, na_values, keep_default_na, na_filter, verbose, skip_blank_lines, parse_dates, infer_datetime_format, keep_date_col, date_parser, dayfirst, cache_dates, iterator, chunksize, compression, thousands, decimal, lineterminator, quotechar, quoting, doublequote, escapechar, comment, encoding, dialect, error_bad_lines, warn_bad_lines, delim_whitespace, low_memory, memory_map, float_precision)\u001b[0m\n\u001b[1;32m    686\u001b[0m     )\n\u001b[1;32m    687\u001b[0m \u001b[0;34m\u001b[0m\u001b[0m\n\u001b[0;32m--> 688\u001b[0;31m     \u001b[0;32mreturn\u001b[0m \u001b[0m_read\u001b[0m\u001b[0;34m(\u001b[0m\u001b[0mfilepath_or_buffer\u001b[0m\u001b[0;34m,\u001b[0m \u001b[0mkwds\u001b[0m\u001b[0;34m)\u001b[0m\u001b[0;34m\u001b[0m\u001b[0;34m\u001b[0m\u001b[0m\n\u001b[0m\u001b[1;32m    689\u001b[0m \u001b[0;34m\u001b[0m\u001b[0m\n\u001b[1;32m    690\u001b[0m \u001b[0;34m\u001b[0m\u001b[0m\n",
      "\u001b[0;32m~/anaconda3/envs/qiime2-2021.2/lib/python3.6/site-packages/pandas/io/parsers.py\u001b[0m in \u001b[0;36m_read\u001b[0;34m(filepath_or_buffer, kwds)\u001b[0m\n\u001b[1;32m    452\u001b[0m \u001b[0;34m\u001b[0m\u001b[0m\n\u001b[1;32m    453\u001b[0m     \u001b[0;31m# Create the parser.\u001b[0m\u001b[0;34m\u001b[0m\u001b[0;34m\u001b[0m\u001b[0;34m\u001b[0m\u001b[0m\n\u001b[0;32m--> 454\u001b[0;31m     \u001b[0mparser\u001b[0m \u001b[0;34m=\u001b[0m \u001b[0mTextFileReader\u001b[0m\u001b[0;34m(\u001b[0m\u001b[0mfp_or_buf\u001b[0m\u001b[0;34m,\u001b[0m \u001b[0;34m**\u001b[0m\u001b[0mkwds\u001b[0m\u001b[0;34m)\u001b[0m\u001b[0;34m\u001b[0m\u001b[0;34m\u001b[0m\u001b[0m\n\u001b[0m\u001b[1;32m    455\u001b[0m \u001b[0;34m\u001b[0m\u001b[0m\n\u001b[1;32m    456\u001b[0m     \u001b[0;32mif\u001b[0m \u001b[0mchunksize\u001b[0m \u001b[0;32mor\u001b[0m \u001b[0miterator\u001b[0m\u001b[0;34m:\u001b[0m\u001b[0;34m\u001b[0m\u001b[0;34m\u001b[0m\u001b[0m\n",
      "\u001b[0;32m~/anaconda3/envs/qiime2-2021.2/lib/python3.6/site-packages/pandas/io/parsers.py\u001b[0m in \u001b[0;36m__init__\u001b[0;34m(self, f, engine, **kwds)\u001b[0m\n\u001b[1;32m    946\u001b[0m             \u001b[0mself\u001b[0m\u001b[0;34m.\u001b[0m\u001b[0moptions\u001b[0m\u001b[0;34m[\u001b[0m\u001b[0;34m\"has_index_names\"\u001b[0m\u001b[0;34m]\u001b[0m \u001b[0;34m=\u001b[0m \u001b[0mkwds\u001b[0m\u001b[0;34m[\u001b[0m\u001b[0;34m\"has_index_names\"\u001b[0m\u001b[0;34m]\u001b[0m\u001b[0;34m\u001b[0m\u001b[0;34m\u001b[0m\u001b[0m\n\u001b[1;32m    947\u001b[0m \u001b[0;34m\u001b[0m\u001b[0m\n\u001b[0;32m--> 948\u001b[0;31m         \u001b[0mself\u001b[0m\u001b[0;34m.\u001b[0m\u001b[0m_make_engine\u001b[0m\u001b[0;34m(\u001b[0m\u001b[0mself\u001b[0m\u001b[0;34m.\u001b[0m\u001b[0mengine\u001b[0m\u001b[0;34m)\u001b[0m\u001b[0;34m\u001b[0m\u001b[0;34m\u001b[0m\u001b[0m\n\u001b[0m\u001b[1;32m    949\u001b[0m \u001b[0;34m\u001b[0m\u001b[0m\n\u001b[1;32m    950\u001b[0m     \u001b[0;32mdef\u001b[0m \u001b[0mclose\u001b[0m\u001b[0;34m(\u001b[0m\u001b[0mself\u001b[0m\u001b[0;34m)\u001b[0m\u001b[0;34m:\u001b[0m\u001b[0;34m\u001b[0m\u001b[0;34m\u001b[0m\u001b[0m\n",
      "\u001b[0;32m~/anaconda3/envs/qiime2-2021.2/lib/python3.6/site-packages/pandas/io/parsers.py\u001b[0m in \u001b[0;36m_make_engine\u001b[0;34m(self, engine)\u001b[0m\n\u001b[1;32m   1178\u001b[0m     \u001b[0;32mdef\u001b[0m \u001b[0m_make_engine\u001b[0m\u001b[0;34m(\u001b[0m\u001b[0mself\u001b[0m\u001b[0;34m,\u001b[0m \u001b[0mengine\u001b[0m\u001b[0;34m=\u001b[0m\u001b[0;34m\"c\"\u001b[0m\u001b[0;34m)\u001b[0m\u001b[0;34m:\u001b[0m\u001b[0;34m\u001b[0m\u001b[0;34m\u001b[0m\u001b[0m\n\u001b[1;32m   1179\u001b[0m         \u001b[0;32mif\u001b[0m \u001b[0mengine\u001b[0m \u001b[0;34m==\u001b[0m \u001b[0;34m\"c\"\u001b[0m\u001b[0;34m:\u001b[0m\u001b[0;34m\u001b[0m\u001b[0;34m\u001b[0m\u001b[0m\n\u001b[0;32m-> 1180\u001b[0;31m             \u001b[0mself\u001b[0m\u001b[0;34m.\u001b[0m\u001b[0m_engine\u001b[0m \u001b[0;34m=\u001b[0m \u001b[0mCParserWrapper\u001b[0m\u001b[0;34m(\u001b[0m\u001b[0mself\u001b[0m\u001b[0;34m.\u001b[0m\u001b[0mf\u001b[0m\u001b[0;34m,\u001b[0m \u001b[0;34m**\u001b[0m\u001b[0mself\u001b[0m\u001b[0;34m.\u001b[0m\u001b[0moptions\u001b[0m\u001b[0;34m)\u001b[0m\u001b[0;34m\u001b[0m\u001b[0;34m\u001b[0m\u001b[0m\n\u001b[0m\u001b[1;32m   1181\u001b[0m         \u001b[0;32melse\u001b[0m\u001b[0;34m:\u001b[0m\u001b[0;34m\u001b[0m\u001b[0;34m\u001b[0m\u001b[0m\n\u001b[1;32m   1182\u001b[0m             \u001b[0;32mif\u001b[0m \u001b[0mengine\u001b[0m \u001b[0;34m==\u001b[0m \u001b[0;34m\"python\"\u001b[0m\u001b[0;34m:\u001b[0m\u001b[0;34m\u001b[0m\u001b[0;34m\u001b[0m\u001b[0m\n",
      "\u001b[0;32m~/anaconda3/envs/qiime2-2021.2/lib/python3.6/site-packages/pandas/io/parsers.py\u001b[0m in \u001b[0;36m__init__\u001b[0;34m(self, src, **kwds)\u001b[0m\n\u001b[1;32m   2008\u001b[0m         \u001b[0mkwds\u001b[0m\u001b[0;34m[\u001b[0m\u001b[0;34m\"usecols\"\u001b[0m\u001b[0;34m]\u001b[0m \u001b[0;34m=\u001b[0m \u001b[0mself\u001b[0m\u001b[0;34m.\u001b[0m\u001b[0musecols\u001b[0m\u001b[0;34m\u001b[0m\u001b[0;34m\u001b[0m\u001b[0m\n\u001b[1;32m   2009\u001b[0m \u001b[0;34m\u001b[0m\u001b[0m\n\u001b[0;32m-> 2010\u001b[0;31m         \u001b[0mself\u001b[0m\u001b[0;34m.\u001b[0m\u001b[0m_reader\u001b[0m \u001b[0;34m=\u001b[0m \u001b[0mparsers\u001b[0m\u001b[0;34m.\u001b[0m\u001b[0mTextReader\u001b[0m\u001b[0;34m(\u001b[0m\u001b[0msrc\u001b[0m\u001b[0;34m,\u001b[0m \u001b[0;34m**\u001b[0m\u001b[0mkwds\u001b[0m\u001b[0;34m)\u001b[0m\u001b[0;34m\u001b[0m\u001b[0;34m\u001b[0m\u001b[0m\n\u001b[0m\u001b[1;32m   2011\u001b[0m         \u001b[0mself\u001b[0m\u001b[0;34m.\u001b[0m\u001b[0munnamed_cols\u001b[0m \u001b[0;34m=\u001b[0m \u001b[0mself\u001b[0m\u001b[0;34m.\u001b[0m\u001b[0m_reader\u001b[0m\u001b[0;34m.\u001b[0m\u001b[0munnamed_cols\u001b[0m\u001b[0;34m\u001b[0m\u001b[0;34m\u001b[0m\u001b[0m\n\u001b[1;32m   2012\u001b[0m \u001b[0;34m\u001b[0m\u001b[0m\n",
      "\u001b[0;32mpandas/_libs/parsers.pyx\u001b[0m in \u001b[0;36mpandas._libs.parsers.TextReader.__cinit__\u001b[0;34m()\u001b[0m\n",
      "\u001b[0;32mpandas/_libs/parsers.pyx\u001b[0m in \u001b[0;36mpandas._libs.parsers.TextReader._setup_parser_source\u001b[0;34m()\u001b[0m\n",
      "\u001b[0;31mFileNotFoundError\u001b[0m: [Errno 2] No such file or directory: 'Results/Core-metrics/alpha.tsv'"
     ]
    }
   ],
   "source": [
    "diversity = {'observed_features':'Observed ASVs',\n",
    "             'shannon_entropy':'Shannon\\'s entropy',\n",
    "             'faith_pd':'Faith\\'s PD',\n",
    "             'pielou_evenness':'Pielou\\'s evenness'}\n",
    "cols = ['BS_Trt','BS_Src']\n",
    "\n",
    "df = pd.read_csv('Results/Core-metrics/alpha.tsv',sep='\\t',index_col='#SampleID')\n",
    "alpha = df.loc[(df.Day!='d0')&(df.BS!='SAM')&(df.BS!='FR')].copy()\n",
    "alpha['IID'] = ''\n",
    "for group in set(alpha.BS_Day_Trt_Src):\n",
    "  temp = alpha.loc[alpha.BS_Day_Trt_Src==group].copy()\n",
    "  for i,index in enumerate(temp.index):\n",
    "    alpha.loc[index,'IID'] = temp.loc[index,'BS_Trt_Src']+'_'+str(i)\n",
    "      \n",
    "!mkdir Results/First_differences\n",
    "alpha.to_csv('Results/First_differences/alpha.tsv',sep='\\t')\n",
    "for div in diversity:\n",
    "  for col in cols:\n",
    "    diff = 'Results/First_differences/%s_%s_first-diff.qzv'%(div,col)\n",
    "    first_diff(div,col,diff)"
   ]
  },
  {
   "cell_type": "code",
   "execution_count": null,
   "metadata": {},
   "outputs": [],
   "source": [
    "diversity = {'unweighted_unifrac':'Unweighted UniFrac',\n",
    "             'weighted_unifrac':'Weighted UniFrac',\n",
    "             'jaccard':'Jaccard',\n",
    "             'bray_curtis':'Bray-Curtis'}\n",
    "cols = ['BS_Trt','BS_Src']\n",
    "df = pd.read_csv('Results/Core-metrics/alpha.tsv',sep='\\t',index_col='#SampleID')\n",
    "met = df.loc[(df.Day!='d0')&(df.BS!='SAM')&(df.BS!='FR')].copy()\n",
    "!mkdir Results/First_distances\n",
    "for div in diversity:\n",
    "  beta = beta_div('Results/Core-metrics/%s_distance_matrix.qza'%div)\n",
    "  for col in cols:\n",
    "    distv = 'Results/First_distances/%s_%s_first-dist.qzv'%(div,col)\n",
    "    dista = 'Results/First_distances/%s_%s_distances.qza'%(div,col)\n",
    "    matr = df_matrix(beta,met)\n",
    "    distance_matrix(matr,div,col,dista)\n",
    "    first_dist(dista,col,distv)"
   ]
  },
  {
   "cell_type": "code",
   "execution_count": null,
   "metadata": {},
   "outputs": [],
   "source": []
  }
 ],
 "metadata": {
  "kernelspec": {
   "display_name": "Python 3",
   "language": "python",
   "name": "python3"
  },
  "language_info": {
   "codemirror_mode": {
    "name": "ipython",
    "version": 3
   },
   "file_extension": ".py",
   "mimetype": "text/x-python",
   "name": "python",
   "nbconvert_exporter": "python",
   "pygments_lexer": "ipython3",
   "version": "3.6.13"
  }
 },
 "nbformat": 4,
 "nbformat_minor": 4
}
