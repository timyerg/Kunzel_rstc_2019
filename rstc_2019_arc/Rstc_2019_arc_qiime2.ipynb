{
 "cells": [
  {
   "cell_type": "markdown",
   "metadata": {},
   "source": [
    "# Import demultiplexed filtered reads"
   ]
  },
  {
   "cell_type": "code",
   "execution_count": null,
   "metadata": {
    "tags": []
   },
   "outputs": [],
   "source": [
    "import pandas as pd\n",
    "import os\n",
    "met = pd.read_csv('metadata.tsv', sep='\\t', index_col='#SampleID')\n",
    "\n",
    "# sort reads by sequencing run\n",
    "for ri in set(met.Run_index):\n",
    "  tmp = 'Data/Demux/'+met.loc[met.Run_index == ri]['SeqRun'].tolist()[0]\n",
    "  !mkdir $tmp\n",
    "  !mv Data/Demux/$ri/* $tmp\n",
    "  !rm -r Data/Demux/$ri\n",
    "  for fq in os.listdir(tmp):\n",
    "    if '.fastq.' in fq:\n",
    "      continue\n",
    "    fastq = fq.replace('.fq.','.fastq.')\n",
    "    !mv $tmp/$fq $tmp/$fastq\n",
    "  "
   ]
  },
  {
   "cell_type": "code",
   "execution_count": 6,
   "metadata": {},
   "outputs": [
    {
     "name": "stdout",
     "output_type": "stream",
     "text": [
      "\u001b[32mImported Data/Demux/SeqRun_2 as CasavaOneEightSingleLanePerSampleDirFmt to Data/Demux/SeqRun_2_demux.qza\u001b[0m\n",
      "\u001b[32mSaved Visualization to: Data/Demux/SeqRun_2_demux.qzv\u001b[0m\n"
     ]
    }
   ],
   "source": [
    "import pandas as pd\n",
    "met = pd.read_csv('metadata.tsv', sep='\\t', index_col='#SampleID')\n",
    "\n",
    "# import reads\n",
    "for sr in set(met.SeqRun):\n",
    "  demux = 'Data/Demux/%s_demux.qza'%sr\n",
    "  deqzv = 'Data/Demux/%s_demux.qzv'%sr\n",
    "  \n",
    "  !qiime tools import \\\n",
    "    --type 'SampleData[PairedEndSequencesWithQuality]' \\\n",
    "    --input-path Data/Demux/$sr \\\n",
    "    --input-format CasavaOneEightSingleLanePerSampleDirFmt \\\n",
    "    --output-path $demux\n",
    "  \n",
    "  !qiime demux summarize \\\n",
    "    --i-data $demux \\\n",
    "    --o-visualization $deqzv"
   ]
  },
  {
   "cell_type": "code",
   "execution_count": 1,
   "metadata": {},
   "outputs": [
    {
     "name": "stdout",
     "output_type": "stream",
     "text": [
      "\u001b[32mSaved SampleData[PairedEndSequencesWithQuality] to: Data/Cutadapt/SeqRun_2_trim.qza\u001b[0m\n",
      "\u001b[32mSaved Visualization to: Data/Cutadapt/SeqRun_2_trim.qzv\u001b[0m\n"
     ]
    }
   ],
   "source": [
    "import pandas as pd\n",
    "met = pd.read_csv('metadata.tsv', sep='\\t', index_col='#SampleID')\n",
    "\n",
    "cutadapt = 'Data/Cutadapt'\n",
    "!mkdir $cutadapt\n",
    "for sr in set(met.SeqRun):\n",
    "  demux = 'Data/Demux/%s_demux.qza'%sr\n",
    "  cutad = cutadapt+'/%s_trim.qza'%sr\n",
    "  cuqzv = cutadapt+'/%s_trim.qzv'%sr\n",
    "  \n",
    "  !qiime cutadapt trim-paired \\\n",
    "    --i-demultiplexed-sequences $demux \\\n",
    "    --o-trimmed-sequences $cutad \\\n",
    "    --p-cores 10 \\\n",
    "    --p-front-f GYGCASCAGKCGMGAA \\\n",
    "    --p-adapter-f GGGGGGGGGGGGGGGGGGGG \\\n",
    "    --p-front-r GGACTACVSGGGTATCTAAT \\\n",
    "    --p-adapter-r GGGGGGGGGGGGGGGGGGGG \\\n",
    "    --p-error-rate 0.2 \\\n",
    "    --p-match-adapter-wildcards \\\n",
    "    --p-discard-untrimmed \\\n",
    "    --p-match-read-wildcards\n",
    "\n",
    "  # Visualization\n",
    "  !qiime demux summarize \\\n",
    "      --i-data $cutad \\\n",
    "      --o-visualization $cuqzv"
   ]
  },
  {
   "cell_type": "markdown",
   "metadata": {
    "tags": []
   },
   "source": [
    "# Dada2 denoising"
   ]
  },
  {
   "cell_type": "code",
   "execution_count": 2,
   "metadata": {
    "tags": []
   },
   "outputs": [
    {
     "name": "stdout",
     "output_type": "stream",
     "text": [
      "mkdir: cannot create directory ‘Data/Denoised_Dada2’: File exists\n",
      "\u001b[32mSaved FeatureTable[Frequency] to: Data/Denoised_Dada2/SeqRun_2_arc_table.qza\u001b[0m\n",
      "\u001b[32mSaved FeatureData[Sequence] to: Data/Denoised_Dada2/SeqRun_2_arc_rep-seqs.qza\u001b[0m\n",
      "\u001b[32mSaved SampleData[DADA2Stats] to: Data/Denoised_Dada2/SeqRun_2_arc_denoising-stats.qza\u001b[0m\n",
      "\u001b[32mSaved Visualization to: Data/Denoised_Dada2/SeqRun_2_arc_rep-seqs.qzv\u001b[0m\n",
      "\u001b[32mSaved Visualization to: Data/Denoised_Dada2/SeqRun_2_arc_denoising-stats.qzv\u001b[0m\n",
      "\u001b[32mSaved Visualization to: Data/Denoised_Dada2/SeqRun_2_arc_table.qzv\u001b[0m\n"
     ]
    }
   ],
   "source": [
    "import pandas as pd\n",
    "met = pd.read_csv('metadata.tsv', sep='\\t', index_col='#SampleID')\n",
    "\n",
    "outdir = 'Data/Denoised_Dada2'\n",
    "!mkdir $outdir\n",
    "for sr in set(met.SeqRun):\n",
    "  cutad = 'Data/Cutadapt/%s_trim.qza'%sr\n",
    "  table = outdir+'/%s_arc_table.qza'%sr\n",
    "  taqzv = outdir+'/%s_arc_table.qzv'%sr\n",
    "  repsq = outdir+'/%s_arc_rep-seqs.qza'%sr\n",
    "  reqzv = outdir+'/%s_arc_rep-seqs.qzv'%sr\n",
    "  stats = outdir+'/%s_arc_denoising-stats.qza'%sr\n",
    "  stqzv = outdir+'/%s_arc_denoising-stats.qzv'%sr\n",
    "  \n",
    "  !qiime dada2 denoise-paired \\\n",
    "    --i-demultiplexed-seqs $cutad \\\n",
    "    --p-trunc-len-f 0\\\n",
    "    --p-trunc-len-r 0 \\\n",
    "    --p-n-threads 0 \\\n",
    "    --o-table $table \\\n",
    "    --p-min-overlap 4 \\\n",
    "    --p-max-ee-r 20 \\\n",
    "    --p-max-ee-f 20 \\\n",
    "    --o-representative-sequences $repsq \\\n",
    "    --o-denoising-stats $stats\n",
    "  \n",
    "  !qiime feature-table tabulate-seqs \\\n",
    "    --i-data $repsq \\\n",
    "    --o-visualization $reqzv\n",
    "\n",
    "  !qiime metadata tabulate \\\n",
    "    --m-input-file $stats \\\n",
    "    --o-visualization $stqzv\n",
    "\n",
    "  !qiime feature-table summarize \\\n",
    "    --i-table $table \\\n",
    "    --o-visualization $taqzv \\\n",
    "    --m-sample-metadata-file metadata.tsv"
   ]
  },
  {
   "cell_type": "markdown",
   "metadata": {},
   "source": [
    "# Merge different runs"
   ]
  },
  {
   "cell_type": "code",
   "execution_count": 4,
   "metadata": {
    "tags": []
   },
   "outputs": [
    {
     "name": "stdout",
     "output_type": "stream",
     "text": [
      "\u001b[32mSaved FeatureTable[Frequency] to: Data/merged_table.qza\u001b[0m\n",
      "\u001b[32mSaved FeatureData[Sequence] to: Data/merged_rep-seqs.qza\u001b[0m\n",
      "\u001b[32mSaved Visualization to: Data/merged_table.qzv\u001b[0m\n"
     ]
    }
   ],
   "source": [
    "!qiime feature-table merge \\\n",
    "  --i-tables Data/Denoised_Dada2/*arc_table.qza \\\n",
    "  --o-merged-table Data/merged_table.qza\n",
    "\n",
    "!qiime feature-table merge-seqs \\\n",
    "  --i-data Data/Denoised_Dada2/*arc_rep-seqs.qza \\\n",
    "  --o-merged-data Data/merged_rep-seqs.qza\n",
    "\n",
    "!qiime feature-table summarize \\\n",
    "  --i-table Data/merged_table.qza \\\n",
    "  --o-visualization Data/merged_table.qzv \\\n",
    "  --m-sample-metadata-file metadata.tsv"
   ]
  },
  {
   "cell_type": "code",
   "execution_count": 5,
   "metadata": {
    "tags": []
   },
   "outputs": [
    {
     "name": "stdout",
     "output_type": "stream",
     "text": [
      "\u001b[32mSaved FeatureTable[Frequency] to: Data/merged_table.qza\u001b[0m\n",
      "\u001b[32mSaved Visualization to: Data/merged_table.qzv\u001b[0m\n",
      "\u001b[32mSaved FeatureData[Sequence] to: Data/merged_rep-seqs.qza\u001b[0m\n"
     ]
    }
   ],
   "source": [
    "#dada2\n",
    "table = 'Data/merged_table.qza'\n",
    "reseq = 'Data/merged_rep-seqs.qza'\n",
    "\n",
    "!qiime feature-table filter-features \\\n",
    "  --i-table $table \\\n",
    "  --p-min-frequency 10 \\\n",
    "  --p-min-samples 2 \\\n",
    "  --o-filtered-table $table\n",
    "\n",
    "!qiime feature-table summarize \\\n",
    "  --i-table $table \\\n",
    "  --o-visualization Data/merged_table.qzv \\\n",
    "  --m-sample-metadata-file metadata.tsv\n",
    "\n",
    "!qiime feature-table filter-seqs \\\n",
    "  --i-data $reseq \\\n",
    "  --i-table $table \\\n",
    "  --o-filtered-data $reseq"
   ]
  },
  {
   "cell_type": "markdown",
   "metadata": {},
   "source": [
    "# Taxonomy assignment"
   ]
  },
  {
   "cell_type": "code",
   "execution_count": 6,
   "metadata": {},
   "outputs": [
    {
     "name": "stdout",
     "output_type": "stream",
     "text": [
      "\u001b[32mSaved FeatureData[Taxonomy] to: Data/arc_dada2_taxonomy_vsearch-sklearn.qza\u001b[0m\n",
      "\u001b[32mSaved Visualization to: Data/arc_dada2_taxonomy_vsearch-sklearn.qzv\u001b[0m\n"
     ]
    }
   ],
   "source": [
    "#dada2\n",
    "!qiime feature-classifier classify-hybrid-vsearch-sklearn \\\n",
    "  --i-query Data/merged_rep-seqs.qza \\\n",
    "  --i-reference-reads ../../../Porto/Classifiers/silva138_1-99-seqs-Arch349F-806R.qza \\\n",
    "  --i-reference-taxonomy ../../../Porto/Classifiers/silva138_1-99-taxa-Arch349F-806R.qza \\\n",
    "  --i-classifier ../../../Porto/Classifiers/Archaea_*-99-classifier.qza \\\n",
    "  --p-threads 4 \\\n",
    "  --p-no-prefilter \\\n",
    "  --o-classification Data/arc_dada2_taxonomy_vsearch-sklearn.qza\n",
    "\n",
    "!qiime metadata tabulate \\\n",
    "  --m-input-file Data/arc_dada2_taxonomy_vsearch-sklearn.qza \\\n",
    "  --o-visualization Data/arc_dada2_taxonomy_vsearch-sklearn.qzv"
   ]
  },
  {
   "cell_type": "markdown",
   "metadata": {},
   "source": [
    "# Combo: Combining ASV hashes with last available taxa "
   ]
  },
  {
   "cell_type": "code",
   "execution_count": 3,
   "metadata": {
    "collapsed": true,
    "jupyter": {
     "outputs_hidden": true
    },
    "tags": []
   },
   "outputs": [
    {
     "name": "stdout",
     "output_type": "stream",
     "text": [
      "Collecting biopython\n",
      "  Downloading biopython-1.78-cp36-cp36m-manylinux1_x86_64.whl (2.3 MB)\n",
      "\u001b[K     |████████████████████████████████| 2.3 MB 1.9 MB/s eta 0:00:01\n",
      "\u001b[?25hRequirement already satisfied: numpy in /home/timyerg/anaconda3/envs/qiime2-2021.2/lib/python3.6/site-packages (from biopython) (1.19.5)\n",
      "Installing collected packages: biopython\n",
      "Successfully installed biopython-1.78\n"
     ]
    }
   ],
   "source": [
    "# Install biopython\n",
    "!pip install biopython"
   ]
  },
  {
   "cell_type": "code",
   "execution_count": 7,
   "metadata": {
    "tags": []
   },
   "outputs": [
    {
     "name": "stdout",
     "output_type": "stream",
     "text": [
      "\u001b[32mExported Data/merged_table.qza as BIOMV210DirFmt to directory Biom/\u001b[0m\n",
      "\u001b[32mExported Data/arc_dada2_taxonomy_vsearch-sklearn.qza as TSVTaxonomyDirectoryFormat to directory Taxa\u001b[0m\n",
      "\u001b[32mExported Data/merged_rep-seqs.qza as DNASequencesDirectoryFormat to directory Rep-seqs/\u001b[0m\n",
      "\u001b[32mImported Biom/feature-table.biom as BIOMV210Format to Data/combo_table.qza\u001b[0m\n",
      "\u001b[32mImported Taxa/taxonomy.tsv as TSVTaxonomyDirectoryFormat to Data/combo_taxonomy.qza\u001b[0m\n",
      "\u001b[32mImported Rep-seqs/dna-sequences.fasta as DNASequencesDirectoryFormat to Data/combo_rep-seqs.qza\u001b[0m\n",
      "\u001b[32mSaved Visualization to: Data/combo_table.qzv\u001b[0m\n",
      "mv: cannot stat 'Rep-seqs/dna-sequences.fa': No such file or directory\n"
     ]
    }
   ],
   "source": [
    "import pandas as pd\n",
    "from Bio import SeqIO\n",
    "\n",
    "# declare Qiime2 generated and output artifacts here\n",
    "tabin = 'Data/merged_table.qza'     \n",
    "taxin = 'Data/arc_dada2_taxonomy_vsearch-sklearn.qza'\n",
    "repin = 'Data/merged_rep-seqs.qza'\n",
    "tabex = 'Data/combo_table.qza'\n",
    "taxex = 'Data/combo_taxonomy.qza'\n",
    "repex = 'Data/combo_rep-seqs.qza'\n",
    "tabev = 'Data/combo_table.qzv'\n",
    "\n",
    "# export rep-seqs.qza, table.qza and taxonomy.qza\n",
    "!mkdir Biom Taxa Rep-seqs #temp directories\n",
    "\n",
    "!qiime tools export \\\n",
    "  --input-path $tabin \\\n",
    "  --output-path Biom/\n",
    "\n",
    "!qiime tools export \\\n",
    "  --input-path $taxin \\\n",
    "  --output-path Taxa\n",
    "\n",
    "!qiime tools export \\\n",
    "  --input-path $repin \\\n",
    "  --output-path Rep-seqs/\n",
    "\n",
    "# convert .biom to .tsv\n",
    "!biom convert -i Biom/feature-table.biom -o Biom/feature-table.tsv --to-tsv \n",
    "\n",
    "# *****replacing hashes with combination of taxonomy and beginings of the hashes*****\n",
    "# reading tables\n",
    "taxa = pd.read_csv('Taxa/taxonomy.tsv', sep='\\t',index_col=0)\n",
    "biom = pd.read_csv('Biom/feature-table.tsv', sep='\\t', skiprows=1,index_col=0)\n",
    "# taxa = taxa.loc[taxa['Feature ID'].isin(biom['#OTU ID'].tolist())].copy()\n",
    "# display(taxa)\n",
    "\n",
    "#creating a new column with modified taxonomy. I also modified some annotations and deleted some symbols \n",
    "#that were crashing tree construction with modified files\n",
    "tax_rep = {';__':'','[':'',']':'','.':'','/':'_',\"'\":'_',' ':'_','archaeon_enrichment':'a_e','YAB2003':'uncl(YAB2003)',\n",
    "  'uncultured_rumen':'uncl','uncultured_archaeon':'uncl','uncultured_euryarchaeote':'uncl','DNF00809':'uncl(DNF00809)',\n",
    "  'uncultured_compost':'uncl','_archaeon':'uncl','unidentified':'unid','unid_rumen':'unid','RF39':'uncl(RF39)',\n",
    "  'uncultured_bacterium':'uncl','uncultured':'uncl','rumen_bacterium':'uncl','p-251-o5':'uncl(p-251-o5)','group':'gr',\n",
    "  '_gr':'','F082':'uncl(F082)','WPS-2':'uncl(WPS-2)','\\(Marine_B\\)':'','Family_XIII_AD3011':'uncl(Family_XIII_AD3011)',\n",
    "  'WCHB1.41':'uncl(WCHB1.41)','UCG.002':'uncl(UCG.002)','NK4A214':'uncl(NK4A214)','X0319.6G20':'uncl(X0319.6G20)',\n",
    "  'NC2004':'uncl(NC2004)','SAR324_clade':'uncl(SAR324-clade)','UCG-006':'uncl(UCG-006)','SN8':'uncl(SN8)','RF16':'uncl(RF16)',\n",
    "  'FD2005':'uncl(FD2005)','vadinHA49':'uncl(vadinHA49)','Clostridium_sensu_stricto_1':'Clostridium(sensu_stricto_1)',\n",
    "  'UCG-014':'uncl(UCG-014)','UCG-014':'uncl(UCG-014)','UCG-010':'uncl(UCG-010)','UCG-004':'uncl(UCG-004)','Ga6A1':'uncl(Ga6A1)',\n",
    "  'vadinBE97':'uncl(vadinBE97)','vadinBB60':'uncl(vadinBB60)','XBB1006':'uncl(XBB1006)','FE2018':'uncl(FE2018)',\n",
    "  'UCG-005':'uncl(UCG-005)','UCG-007':'uncl(UCG-007)','UCG-009':'uncl(UCG-009)','R-7':'uncl(R-7)','UCG-003':'uncl(UCG-003)',\n",
    "  'RC9_gut':'uncl(RC9_gut)','probable_genus_10':'uncl(gen10)','0319-6G20':'uncl(0319-6G20)','AC2044':'uncl(AC2044)',\n",
    "  'FCS020':'uncl(FCS020)','Family_XIII_UCG-001':'uncl(Family_XIII_UCG001)','UCG-001':'uncl(UCG-001)','NK3A20':'uncl(NK3A20)',\n",
    "  'Lineage_IV':'uncl(Lineage_IV)'}\n",
    "taxa['Taxon2'] = taxa['Taxon']\n",
    "for key in tax_rep.keys():\n",
    "  taxa['Taxon2'] = taxa['Taxon2'].str.replace(key,tax_rep[key],regex=True)\n",
    "#dealing with uncultured taxa to provide additional information\n",
    "taxa['Combo'] =  taxa['Taxon2'].str.split(\"__\").str[-1].str.split(\";\").str[-1]\n",
    "for x in ['uncl','unid_methanogen','unid','methanogenic_uncl','uncl_methanogenic_uncl','uncl(UCG-004)','uncl(X0319.6G20)',\n",
    "          'uncl(DNF00809)','uncl(UCG-006)','uncl(NC2004)','uncl(RF39)','uncl(SN8)','uncl(FD2005)',\n",
    "          'uncl(vadinHA49)','uncl(vadinBE97)','uncl(vadinBB60)','uncl(XBB1006)','uncl(FE2018)','uncl(UCG-005)','uncl(UCG-007)',\n",
    "          'uncl(UCG-009)','uncl(R-7)','uncl(UCG-003)','uncl(RF16)','uncl(Ga6A1)','uncl(RC9_gut)','uncl(gen10)','uncl(0319-6G20)',\n",
    "          'uncl(FCS020)','uncl(Family_XIII_UCG-001)','uncl(Lineage_IV)',]:\n",
    "  taxa.loc[taxa['Combo'].str[:]==x,'Combo']=taxa['Taxon2'].str.split(\"__\").str[-2].str.split(';').str[0]+'_'+x\n",
    "for n in range(3,6):\n",
    "  for y in ['uncl_uncl','unid_uncl','uncl_unid','methanogenic_uncl','uncl(RF39)_uncl(RF39)','uncl(vadinHA49)_uncl(vadinHA49)',\n",
    "            'uncl(0319-6G20)_uncl(0319-6G20)','uncl(vadinBE97)_uncl(vadinBE97)','unid_unid',]:\n",
    "    taxa.loc[taxa.Combo.str[:]==y,'Combo']=taxa.Taxon2.str.split(\"__\").str[-n].str.split(';').str[0]+'_'+y.split('_',1)[1]\n",
    "\n",
    "#add modified taxonomy information to feature hashes, separating them by '|'\n",
    "biom['New ID'] = taxa['Combo']+'|'+taxa.index\n",
    "biom.set_index('New ID', inplace=True)\n",
    "biom.index.names = ['#OTU ID']\n",
    "taxa['New ID'] = taxa['Combo']+'|'+taxa.index\n",
    "taxa.set_index('New ID', inplace=True)\n",
    "taxa.index.names = ['Feature ID']  \n",
    "taxa = taxa[['Taxon', 'Confidence', 'Consensus', 'Method']]\n",
    "\n",
    "### writing modified files\n",
    "biom.to_csv('Biom/feature-table.tsv', sep='\\t',)\n",
    "taxa.to_csv('Taxa/taxonomy.tsv', sep='\\t',)\n",
    "fasta_hash  = r\"Rep-seqs/dna-sequences.fasta\"\n",
    "fasta_combo = r\"Rep-seqs/dna-sequences.fa\"\n",
    "hlist = biom.index.tolist()\n",
    "with open(fasta_hash) as hashes, open(fasta_combo, 'w') as combo:\n",
    "  for record in SeqIO.parse(fasta_hash, 'fasta'):\n",
    "    for h in hlist:\n",
    "      if str(record.id) in str(h):\n",
    "        combo.write('>'+str(h)+'\\n'+str(record.seq)+'\\n')\n",
    "\n",
    "#some cleaning and renaming\n",
    "!rm $fasta_hash\n",
    "!mv $fasta_combo $fasta_hash\n",
    "\n",
    "#creating new rep-seqs.qza, table.qza and taxonomy.qza with modified hashes (added 'combo_' in the name)\n",
    "!biom convert -i Biom/feature-table.tsv -o Biom/feature-table.biom --table-type=\"OTU table\" --to-hdf5\n",
    "\n",
    "!qiime tools import \\\n",
    "  --input-path Biom/feature-table.biom \\\n",
    "  --type 'FeatureTable[Frequency]' \\\n",
    "  --input-format BIOMV210Format \\\n",
    "  --output-path $tabex\n",
    "\n",
    "!qiime tools import \\\n",
    "  --type 'FeatureData[Taxonomy]' \\\n",
    "  --input-path Taxa/taxonomy.tsv \\\n",
    "  --output-path $taxex\n",
    "\n",
    "!qiime tools import \\\n",
    "  --input-path $fasta_hash \\\n",
    "  --type 'FeatureData[Sequence]' \\\n",
    "  --output-path $repex\n",
    "\n",
    "!rm -r Biom Taxa Rep-seqs #clean temp directories\n",
    "\n",
    "!qiime feature-table summarize \\\n",
    "  --i-table $tabex \\\n",
    "  --o-visualization $tabev\n",
    "!mv $fasta_combo $fasta_hash"
   ]
  },
  {
   "cell_type": "markdown",
   "metadata": {},
   "source": [
    "# Filtration to remove low abundant features"
   ]
  },
  {
   "cell_type": "code",
   "execution_count": 8,
   "metadata": {},
   "outputs": [
    {
     "name": "stdout",
     "output_type": "stream",
     "text": [
      "mkdir: cannot create directory ‘Data/Divided_tables’: File exists\n",
      "\u001b[32mSaved FeatureTable[Frequency] to: Data/Divided_tables/full-table.qza\u001b[0m\n",
      "\u001b[32mSaved Visualization to: Data/Divided_tables/full-table.qzv\u001b[0m\n",
      "\u001b[32mSaved FeatureData[Sequence] to: Data/combo_rep-seqs.qza\u001b[0m\n"
     ]
    }
   ],
   "source": [
    "tabdir = 'Data/Divided_tables'\n",
    "\n",
    "!mkdir $tabdir\n",
    "!qiime taxa filter-table \\\n",
    "  --i-table Data/combo_table.qza \\\n",
    "  --i-taxonomy Data/combo_taxonomy.qza \\\n",
    "  --p-exclude mitochondria,chloroplast,d__Bacteria,d__Eukaryota \\\n",
    "  --p-include p__ \\\n",
    "  --o-filtered-table $tabdir/full-table.qza\n",
    "\n",
    "#!qiime feature-table filter-samples \\\n",
    "#  --i-table $tabdir/full-table.qza \\\n",
    "#  --p-min-features 25 \\\n",
    "#  --p-min-frequency 10000 \\\n",
    "#  --o-filtered-table $tabdir/full-table.qza\n",
    "\n",
    "!qiime feature-table summarize \\\n",
    "  --i-table $tabdir/full-table.qza \\\n",
    "  --o-visualization $tabdir/full-table.qzv \\\n",
    "  --m-sample-metadata-file metadata.tsv\n",
    "\n",
    "!qiime feature-table filter-seqs \\\n",
    "  --i-data Data/combo_rep-seqs.qza \\\n",
    "  --i-table $tabdir/full-table.qza \\\n",
    "  --o-filtered-data Data/combo_rep-seqs.qza"
   ]
  },
  {
   "cell_type": "markdown",
   "metadata": {},
   "source": [
    "# Generate a tree for phylogenetic diversity analysis"
   ]
  },
  {
   "cell_type": "code",
   "execution_count": 9,
   "metadata": {},
   "outputs": [
    {
     "name": "stdout",
     "output_type": "stream",
     "text": [
      "\u001b[32mSaved FeatureData[AlignedSequence] to: Data/aligned-rep-seqs.qza\u001b[0m\n",
      "\u001b[32mSaved FeatureData[AlignedSequence] to: Data/masked-aligned-rep-seqs.qza\u001b[0m\n",
      "\u001b[32mSaved Phylogeny[Unrooted] to: Data/unrooted-tree.qza\u001b[0m\n",
      "\u001b[32mSaved Phylogeny[Rooted] to: Data/rooted-tree.qza\u001b[0m\n"
     ]
    }
   ],
   "source": [
    "!qiime phylogeny align-to-tree-mafft-fasttree \\\n",
    "  --i-sequences Data/combo_rep-seqs.qza \\\n",
    "  --p-n-threads 4 \\\n",
    "  --o-alignment Data/aligned-rep-seqs.qza \\\n",
    "  --o-masked-alignment Data/masked-aligned-rep-seqs.qza \\\n",
    "  --o-tree Data/unrooted-tree.qza \\\n",
    "  --o-rooted-tree Data/rooted-tree.qza"
   ]
  },
  {
   "cell_type": "markdown",
   "metadata": {},
   "source": [
    "# Taxabarplots"
   ]
  },
  {
   "cell_type": "code",
   "execution_count": 10,
   "metadata": {},
   "outputs": [
    {
     "name": "stdout",
     "output_type": "stream",
     "text": [
      "\u001b[32mSaved Visualization to: Results/Taxa_barplots/full-taxabarplot.qzv\u001b[0m\n"
     ]
    }
   ],
   "source": [
    "!mkdir -p Results/Taxa_barplots\n",
    "!qiime taxa barplot \\\n",
    "  --i-table Data/Divided_tables/full-table.qza \\\n",
    "  --i-taxonomy Data/combo_taxonomy.qza \\\n",
    "  --m-metadata-file metadata.tsv \\\n",
    "  --o-visualization Results/Taxa_barplots/full-taxabarplot.qzv"
   ]
  },
  {
   "cell_type": "markdown",
   "metadata": {},
   "source": [
    "# Alpha and beta diversity analysis"
   ]
  },
  {
   "cell_type": "markdown",
   "metadata": {},
   "source": [
    "### Alpha rarefaction plotting"
   ]
  },
  {
   "cell_type": "code",
   "execution_count": 11,
   "metadata": {},
   "outputs": [
    {
     "name": "stdout",
     "output_type": "stream",
     "text": [
      "\u001b[32mSaved Visualization to: Results/Alpha_rarefaction.qzv\u001b[0m\n"
     ]
    }
   ],
   "source": [
    "!qiime diversity alpha-rarefaction \\\n",
    "  --i-table Data/Divided_tables/full-table.qza \\\n",
    "  --i-phylogeny Data/rooted-tree.qza \\\n",
    "  --p-max-depth 20000 \\\n",
    "  --m-metadata-file metadata.tsv \\\n",
    "  --o-visualization Results/Alpha_rarefaction.qzv"
   ]
  },
  {
   "cell_type": "markdown",
   "metadata": {},
   "source": [
    "### Core-metrics-phylogenetic: Core diversity metrics (phylogenetic and non-phylogenetic)"
   ]
  },
  {
   "cell_type": "code",
   "execution_count": 12,
   "metadata": {
    "tags": []
   },
   "outputs": [
    {
     "name": "stdout",
     "output_type": "stream",
     "text": [
      "\u001b[32mSaved FeatureTable[Frequency] to: Results/Core-metrics/rarefied_table.qza\u001b[0m\n",
      "\u001b[32mSaved SampleData[AlphaDiversity] to: Results/Core-metrics/faith_pd_vector.qza\u001b[0m\n",
      "\u001b[32mSaved SampleData[AlphaDiversity] to: Results/Core-metrics/observed_features_vector.qza\u001b[0m\n",
      "\u001b[32mSaved SampleData[AlphaDiversity] to: Results/Core-metrics/shannon_vector.qza\u001b[0m\n",
      "\u001b[32mSaved SampleData[AlphaDiversity] to: Results/Core-metrics/evenness_vector.qza\u001b[0m\n",
      "\u001b[32mSaved DistanceMatrix to: Results/Core-metrics/unweighted_unifrac_distance_matrix.qza\u001b[0m\n",
      "\u001b[32mSaved DistanceMatrix to: Results/Core-metrics/weighted_unifrac_distance_matrix.qza\u001b[0m\n",
      "\u001b[32mSaved DistanceMatrix to: Results/Core-metrics/jaccard_distance_matrix.qza\u001b[0m\n",
      "\u001b[32mSaved DistanceMatrix to: Results/Core-metrics/bray_curtis_distance_matrix.qza\u001b[0m\n",
      "\u001b[32mSaved PCoAResults to: Results/Core-metrics/unweighted_unifrac_pcoa_results.qza\u001b[0m\n",
      "\u001b[32mSaved PCoAResults to: Results/Core-metrics/weighted_unifrac_pcoa_results.qza\u001b[0m\n",
      "\u001b[32mSaved PCoAResults to: Results/Core-metrics/jaccard_pcoa_results.qza\u001b[0m\n",
      "\u001b[32mSaved PCoAResults to: Results/Core-metrics/bray_curtis_pcoa_results.qza\u001b[0m\n",
      "\u001b[32mSaved Visualization to: Results/Core-metrics/unweighted_unifrac_emperor.qzv\u001b[0m\n",
      "\u001b[32mSaved Visualization to: Results/Core-metrics/weighted_unifrac_emperor.qzv\u001b[0m\n",
      "\u001b[32mSaved Visualization to: Results/Core-metrics/jaccard_emperor.qzv\u001b[0m\n",
      "\u001b[32mSaved Visualization to: Results/Core-metrics/bray_curtis_emperor.qzv\u001b[0m\n"
     ]
    }
   ],
   "source": [
    "!qiime diversity core-metrics-phylogenetic \\\n",
    "  --i-phylogeny Data/rooted-tree.qza \\\n",
    "  --i-table Data/Divided_tables/full-table.qza \\\n",
    "  --p-sampling-depth 3580 \\\n",
    "  --m-metadata-file metadata.tsv \\\n",
    "  --p-n-jobs-or-threads 'auto' \\\n",
    "  --output-dir Results/Core-metrics"
   ]
  },
  {
   "cell_type": "markdown",
   "metadata": {},
   "source": [
    "### Principal Coordinate Analysis Biplot"
   ]
  },
  {
   "cell_type": "code",
   "execution_count": 13,
   "metadata": {},
   "outputs": [
    {
     "name": "stdout",
     "output_type": "stream",
     "text": [
      "mkdir: cannot create directory ‘Data/Relative_tables’: File exists\n",
      "\u001b[32mSaved FeatureTable[RelativeFrequency] to: Data/Relative_tables/full-relative_table.qza\u001b[0m\n",
      "\u001b[32mSaved PCoAResults % Properties('biplot') to: Results/Biplots/unweighted_unifrac_biplot.qza\u001b[0m\n",
      "\u001b[32mSaved Visualization to: Results/Biplots/unweighted_unifrac_biplot.qzv\u001b[0m\n",
      "\u001b[32mSaved PCoAResults % Properties('biplot') to: Results/Biplots/weighted_unifrac_biplot.qza\u001b[0m\n",
      "\u001b[32mSaved Visualization to: Results/Biplots/weighted_unifrac_biplot.qzv\u001b[0m\n",
      "\u001b[32mSaved PCoAResults % Properties('biplot') to: Results/Biplots/jaccard_biplot.qza\u001b[0m\n",
      "\u001b[32mSaved Visualization to: Results/Biplots/jaccard_biplot.qzv\u001b[0m\n",
      "\u001b[32mSaved PCoAResults % Properties('biplot') to: Results/Biplots/bray_curtis_biplot.qza\u001b[0m\n",
      "\u001b[32mSaved Visualization to: Results/Biplots/bray_curtis_biplot.qzv\u001b[0m\n"
     ]
    }
   ],
   "source": [
    "table = 'Data/Divided_tables/full-table.qza'\n",
    "reltab = 'Data/Relative_tables/full-relative_table.qza'\n",
    "  \n",
    "  # Converting feature table [Frequency] to [Relative frequency]\n",
    "!mkdir Data/Relative_tables\n",
    "!qiime feature-table relative-frequency \\\n",
    "  --i-table $table \\\n",
    "  --o-relative-frequency-table $reltab\n",
    "\n",
    "for artifact in ['unweighted_unifrac', 'weighted_unifrac', 'jaccard', 'bray_curtis']:\n",
    "  pcoa  = 'Results/Core-metrics/%s_pcoa_results.qza' % artifact\n",
    "  bidir = 'Results/Biplots'\n",
    "  biplot= bidir+'/%s_biplot.qza' % artifact\n",
    "  bi_qzv= bidir+'/%s_biplot.qzv' % artifact\n",
    "\n",
    "  !mkdir -p $bidir\n",
    "    \n",
    "  # pcoa-biplot: Principal Coordinate Analysis Biplot     \n",
    "  !qiime diversity pcoa-biplot \\\n",
    "    --i-pcoa $pcoa \\\n",
    "    --i-features $reltab \\\n",
    "    --o-biplot $biplot\n",
    "\n",
    "  !qiime emperor biplot \\\n",
    "    --i-biplot $biplot \\\n",
    "    --m-sample-metadata-file metadata.tsv \\\n",
    "    --p-ignore-missing-samples \\\n",
    "    --p-number-of-features 5 \\\n",
    "    --o-visualization $bi_qzv"
   ]
  },
  {
   "cell_type": "code",
   "execution_count": null,
   "metadata": {},
   "outputs": [],
   "source": []
  }
 ],
 "metadata": {
  "kernelspec": {
   "display_name": "Python 3",
   "language": "python",
   "name": "python3"
  },
  "language_info": {
   "codemirror_mode": {
    "name": "ipython",
    "version": 3
   },
   "file_extension": ".py",
   "mimetype": "text/x-python",
   "name": "python",
   "nbconvert_exporter": "python",
   "pygments_lexer": "ipython3",
   "version": "3.8.5"
  }
 },
 "nbformat": 4,
 "nbformat_minor": 4
}
