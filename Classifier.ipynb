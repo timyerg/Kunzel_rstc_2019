{
 "cells": [
  {
   "cell_type": "markdown",
   "id": "adolescent-filling",
   "metadata": {},
   "source": [
    "# Training feature classifier \n",
    "### 138 Silva db ref-seqs and taxonomy were obtained from Qiime2 website and produced by rescript"
   ]
  },
  {
   "cell_type": "code",
   "execution_count": 8,
   "id": "about-structure",
   "metadata": {},
   "outputs": [
    {
     "name": "stdout",
     "output_type": "stream",
     "text": [
      "mkdir: cannot create directory ‘Classifier’: File exists\n",
      "\u001b[32mSaved FeatureData[RNASequence] to: Classifier/silva-138_1-ssu-nr99-seqs.qza\u001b[0m\n",
      "\u001b[32mSaved FeatureData[Taxonomy] to: Classifier/silva-138_1-ssu-nr99-tax.qza\u001b[0m\n"
     ]
    }
   ],
   "source": [
    "!mkdir Classifier\n",
    "!qiime rescript get-silva-data \\\n",
    "  --p-version '138.1' \\\n",
    "  --p-target 'SSURef_NR99' \\\n",
    "  --p-include-species-labels \\\n",
    "  --o-silva-sequences Classifier/silva-138_1-ssu-nr99-seqs.qza \\\n",
    "  --o-silva-taxonomy Classifier/silva-138_1-ssu-nr99-tax.qza"
   ]
  },
  {
   "cell_type": "code",
   "execution_count": 10,
   "id": "flying-annotation",
   "metadata": {},
   "outputs": [
    {
     "name": "stdout",
     "output_type": "stream",
     "text": [
      "\u001b[32mSaved FeatureData[Sequence] to: Classifier/silva-138_1-ssu-nr99-seqs-cleaned.qza\u001b[0m\n"
     ]
    }
   ],
   "source": [
    "!qiime rescript cull-seqs \\\n",
    "  --i-sequences Classifier/silva-138_1-ssu-nr99-seqs.qza \\\n",
    "  --o-clean-sequences Classifier/silva-138_1-ssu-nr99-seqs-cleaned.qza"
   ]
  },
  {
   "cell_type": "code",
   "execution_count": 12,
   "id": "square-tampa",
   "metadata": {},
   "outputs": [
    {
     "name": "stdout",
     "output_type": "stream",
     "text": [
      "\u001b[32mSaved FeatureData[Sequence] to: Classifier/silva-138_1-ssu-nr99-seqs-filt.qza\u001b[0m\n",
      "\u001b[32mSaved FeatureData[Sequence] to: Classifier/silva-138_1-ssu-nr99-seqs-discard.qza\u001b[0m\n"
     ]
    }
   ],
   "source": [
    "!qiime rescript filter-seqs-length-by-taxon \\\n",
    "  --i-sequences Classifier/silva-138_1-ssu-nr99-seqs-cleaned.qza \\\n",
    "  --i-taxonomy Classifier/silva-138_1-ssu-nr99-tax.qza \\\n",
    "  --p-labels Archaea Bacteria Eukaryota \\\n",
    "  --p-min-lens 900 1200 1400 \\\n",
    "  --o-filtered-seqs Classifier/silva-138_1-ssu-nr99-seqs-filt.qza \\\n",
    "  --o-discarded-seqs Classifier/silva-138_1-ssu-nr99-seqs-discard.qza "
   ]
  },
  {
   "cell_type": "code",
   "execution_count": null,
   "id": "informative-blues",
   "metadata": {},
   "outputs": [],
   "source": [
    "!qiime rescript dereplicate \\\n",
    "  --i-sequences Classifier/silva-138_1-ssu-nr99-seqs-filt.qza  \\\n",
    "  --i-taxa Classifier/silva-138_1-ssu-nr99-tax.qza \\\n",
    "  --p-rank-handles 'silva' \\\n",
    "  --p-mode 'uniq' \\\n",
    "  --o-dereplicated-sequences Classifier/silva-138_1-ssu-nr99-seqs-derep-uniq.qza \\\n",
    "  --o-dereplicated-taxa Classifier/silva-138_1-ssu-nr99-tax-derep-uniq.qza"
   ]
  },
  {
   "cell_type": "markdown",
   "id": "absent-windsor",
   "metadata": {},
   "source": [
    "### Full length classifier"
   ]
  },
  {
   "cell_type": "code",
   "execution_count": 1,
   "id": "opened-sponsorship",
   "metadata": {},
   "outputs": [],
   "source": [
    "!qiime feature-classifier fit-classifier-naive-bayes \\\n",
    "  --i-reference-reads Classifier/silva-138_1-ssu-nr99-seqs-derep-uniq.qza \\\n",
    "  --i-reference-taxonomy Classifier/silva-138_1-ssu-nr99-tax-derep-uniq.qza \\\n",
    "  --o-classifier Classifier/full_silva-138_1-ssu-nr99-classifier.qza"
   ]
  },
  {
   "cell_type": "markdown",
   "id": "third-packet",
   "metadata": {},
   "source": [
    "### V1-V2 amplicons"
   ]
  },
  {
   "cell_type": "code",
   "execution_count": null,
   "id": "entitled-alfred",
   "metadata": {},
   "outputs": [],
   "source": [
    "!qiime feature-classifier extract-reads \\\n",
    "  --i-sequences Classifier/silva-138_1-ssu-nr99-seqs-derep-uniq.qza \\\n",
    "  --p-f-primer CAAGRGTTHGATYMTGGCTCAG \\\n",
    "  --p-r-primer TGCTGCCTCCCGTAGGAGT \\\n",
    "  --p-n-jobs 6 \\\n",
    "  --p-read-orientation 'forward' \\\n",
    "  --o-reads Classifier/silva-138_1-ssu-nr99-seqs-V1-V2.qza"
   ]
  },
  {
   "cell_type": "code",
   "execution_count": null,
   "id": "forbidden-french",
   "metadata": {},
   "outputs": [],
   "source": [
    "!qiime rescript dereplicate \\\n",
    "  --i-sequences Classifier/silva-138_1-ssu-nr99-seqs-V1-V2.qza \\\n",
    "  --i-taxa Classifier/silva-138_1-ssu-nr99-tax-derep-uniq.qza \\\n",
    "  --p-rank-handles 'silva' \\\n",
    "  --p-mode 'uniq' \\\n",
    "  --o-dereplicated-sequences Classifier/silva-138_1-ssu-nr99-seqs-V1-V2-uniq.qza \\\n",
    "  --o-dereplicated-taxa  Classifier/silva-138_1-ssu-nr99-tax-V1-V2-derep-uniq.qza"
   ]
  },
  {
   "cell_type": "code",
   "execution_count": 2,
   "id": "offensive-grocery",
   "metadata": {},
   "outputs": [
    {
     "name": "stdout",
     "output_type": "stream",
     "text": [
      "\u001b[32mSaved TaxonomicClassifier to: Classifier/V1-V2-ssu-nr99-classifier.qza\u001b[0m\n"
     ]
    }
   ],
   "source": [
    "!qiime feature-classifier fit-classifier-naive-bayes \\\n",
    "  --i-reference-reads Classifier/silva-138_1-ssu-nr99-seqs-V1-V2-uniq.qza \\\n",
    "  --i-reference-taxonomy Classifier/silva-138_1-ssu-nr99-tax-V1-V2-derep-uniq.qza \\\n",
    "  --o-classifier Classifier/V1-V2-ssu-nr99-classifier.qza"
   ]
  },
  {
   "cell_type": "markdown",
   "id": "equivalent-commodity",
   "metadata": {},
   "source": [
    "### ITS (archaea) amplicons"
   ]
  },
  {
   "cell_type": "code",
   "execution_count": null,
   "id": "everyday-fitting",
   "metadata": {},
   "outputs": [],
   "source": [
    "!qiime feature-classifier extract-reads \\\n",
    "  --i-sequences Classifier/silva-138_1-ssu-nr99-seqs-derep-uniq.qza \\\n",
    "  --p-f-primer CAGYGCASCAGKCGMGAA \\\n",
    "  --p-r-primer GGACTACVSGGGTATCTAAT \\\n",
    "  --p-n-jobs 6 \\\n",
    "  --p-read-orientation 'forward' \\\n",
    "  --o-reads Classifier/silva-138_1-ssu-nr99-seqs-its.qza"
   ]
  },
  {
   "cell_type": "code",
   "execution_count": null,
   "id": "fitting-contrast",
   "metadata": {},
   "outputs": [],
   "source": [
    "!qiime rescript dereplicate \\\n",
    "  --i-sequences Classifier/silva-138_1-ssu-nr99-seqs-its.qza \\\n",
    "  --i-taxa Classifier/silva-138_1-ssu-nr99-tax-derep-uniq.qza \\\n",
    "  --p-rank-handles 'silva' \\\n",
    "  --p-mode 'uniq' \\\n",
    "  --o-dereplicated-sequences Classifier/silva-138_1-ssu-nr99-seqs-its-uniq.qza \\\n",
    "  --o-dereplicated-taxa  Classifier/silva-138_1-ssu-nr99-tax-its-derep-uniq.qza"
   ]
  },
  {
   "cell_type": "code",
   "execution_count": null,
   "id": "gothic-nashville",
   "metadata": {},
   "outputs": [],
   "source": [
    "!qiime feature-classifier fit-classifier-naive-bayes \\\n",
    "  --i-reference-reads Classifier/silva-138_1-ssu-nr99-seqs-its-uniq.qza \\\n",
    "  --i-reference-taxonomy Classifier/silva-138_1-ssu-nr99-tax-its-derep-uniq.qza \\\n",
    "  --o-classifier Classifier/ITS-ssu-nr99-classifier.qza"
   ]
  }
 ],
 "metadata": {
  "kernelspec": {
   "display_name": "Python 3 (ipykernel)",
   "language": "python",
   "name": "python3"
  },
  "language_info": {
   "codemirror_mode": {
    "name": "ipython",
    "version": 3
   },
   "file_extension": ".py",
   "mimetype": "text/x-python",
   "name": "python",
   "nbconvert_exporter": "python",
   "pygments_lexer": "ipython3",
   "version": "3.8.10"
  }
 },
 "nbformat": 4,
 "nbformat_minor": 5
}
